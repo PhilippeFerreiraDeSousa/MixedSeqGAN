{
 "cells": [
  {
   "cell_type": "code",
   "execution_count": 1,
   "metadata": {},
   "outputs": [],
   "source": [
    "import numpy as np\n",
    "\n",
    "import tensorflow as tf\n",
    "import pandas as pd\n",
    "import os\n",
    "\n",
    "import random\n",
    "from dataloader import Gen_Data_loader, Dis_dataloader\n",
    "from generator import Generator\n",
    "from discriminator import Discriminator\n",
    "from rollout import ROLLOUT\n",
    "\n",
    "#########################################################################################\n",
    "#  Generator  Hyper-parameters\n",
    "######################################################################################\n",
    "EMB_DIM = 8 # embedding dimension\n",
    "HIDDEN_DIM = 8 # hidden state dimension of lstm cell\n",
    "SEQ_LENGTH = 50 # sequence length\n",
    "START_TOKEN = [0., 0., 0]\n",
    "SEED = 88\n",
    "BATCH_SIZE = 64\n",
    "VOCAB_SIZE = 112  # 111 categories and 1 start_token\n",
    "\n",
    "#########################################################################################\n",
    "#  Discriminator  Hyper-parameters\n",
    "#########################################################################################\n",
    "dis_embedding_dim = 16\n",
    "dis_filter_sizes = [1, 2, 3, 4, 5, 6, 7, 8, 9, 10, 15, 20]\n",
    "dis_num_filters = [50, 100, 100, 100, 100, 50, 50, 50, 50, 50, 80, 80]\n",
    "dis_dropout_keep_prob = 0.75\n",
    "dis_l2_reg_lambda = 0.2\n",
    "dis_batch_size = 64\n",
    "\n",
    "real_data_file = './CDS_Preprocessed_Data.h5.gz'\n",
    "MODEL_FILE = \"./results5/model.ckpt\"\n",
    "OUTPUT_DATAFRAME = \"./results5/CDS_Preprocessed_Data_results.h5.gz\"\n",
    "\n",
    "\n",
    "def generate_samples(sess, trainable_model, batch_size, generated_num, output_file=None):\n",
    "    # Generate Samples\n",
    "    generated_samples = []\n",
    "    for _ in range(int(generated_num / batch_size)):\n",
    "        generated_samples.extend(trainable_model.generate(sess))\n",
    "\n",
    "    data = []\n",
    "    for sequence in generated_samples:\n",
    "        data.extend(sequence)\n",
    "    df = pd.DataFrame(data=data, columns=[\"PRICE\", \"ROUNDED_NOTIONAL_AMOUNT\", \"category\"])\n",
    "    df = df.astype({\"category\": 'int32'})\n",
    "    if output_file is not None:\n",
    "        df.to_hdf(output_file, key=\"CDS\", complib=\"zlib\", complevel=9, mode='w')\n",
    "    \n",
    "    return df"
   ]
  },
  {
   "cell_type": "code",
   "execution_count": 2,
   "metadata": {},
   "outputs": [
    {
     "name": "stdout",
     "output_type": "stream",
     "text": [
      "WARNING:tensorflow:From /home/philippe/Documents/UCB/S2/FinTech/SeqGAN_CDS/generator.py:25: The name tf.variable_scope is deprecated. Please use tf.compat.v1.variable_scope instead.\n",
      "\n",
      "WARNING:tensorflow:From /home/philippe/Documents/UCB/S2/FinTech/SeqGAN_CDS/generator.py:134: The name tf.random_normal is deprecated. Please use tf.random.normal instead.\n",
      "\n",
      "WARNING:tensorflow:From /home/philippe/Documents/UCB/S2/FinTech/SeqGAN_CDS/generator.py:32: The name tf.placeholder is deprecated. Please use tf.compat.v1.placeholder instead.\n",
      "\n",
      "WARNING:tensorflow:From /home/philippe/Documents/UCB/S2/FinTech/SeqGAN_CDS/generator.py:51: The name tf.log is deprecated. Please use tf.math.log instead.\n",
      "\n",
      "WARNING:tensorflow:From /home/philippe/Documents/UCB/S2/FinTech/SeqGAN_CDS/generator.py:52: multinomial (from tensorflow.python.ops.random_ops) is deprecated and will be removed in a future version.\n",
      "Instructions for updating:\n",
      "Use `tf.random.categorical` instead.\n",
      "WARNING:tensorflow:From /home/philippe/Documents/UCB/S2/FinTech/SeqGAN_CDS/generator.py:118: to_int32 (from tensorflow.python.ops.math_ops) is deprecated and will be removed in a future version.\n",
      "Instructions for updating:\n",
      "Use `tf.cast` instead.\n",
      "WARNING:tensorflow:From /home/philippe/Documents/UCB/S2/FinTech/SeqGAN_CDS/generator.py:214: The name tf.train.AdamOptimizer is deprecated. Please use tf.compat.v1.train.AdamOptimizer instead.\n",
      "\n",
      "WARNING:tensorflow:From /home/philippe/.virtualenvs/fintech/lib/python3.7/site-packages/tensorflow_core/python/ops/math_grad.py:1424: where (from tensorflow.python.ops.array_ops) is deprecated and will be removed in a future version.\n",
      "Instructions for updating:\n",
      "Use tf.where in 2.0, which has the same broadcast rule as np.where\n",
      "WARNING:tensorflow:From /home/philippe/Documents/UCB/S2/FinTech/SeqGAN_CDS/discriminator.py:74: The name tf.random_uniform is deprecated. Please use tf.random.uniform instead.\n",
      "\n",
      "WARNING:tensorflow:From /home/philippe/Documents/UCB/S2/FinTech/SeqGAN_CDS/discriminator.py:85: The name tf.truncated_normal is deprecated. Please use tf.random.truncated_normal instead.\n",
      "\n",
      "WARNING:tensorflow:From /home/philippe/Documents/UCB/S2/FinTech/SeqGAN_CDS/discriminator.py:96: The name tf.nn.max_pool is deprecated. Please use tf.nn.max_pool2d instead.\n",
      "\n",
      "WARNING:tensorflow:From /home/philippe/Documents/UCB/S2/FinTech/SeqGAN_CDS/discriminator.py:29: The name tf.get_variable is deprecated. Please use tf.compat.v1.get_variable instead.\n",
      "\n",
      "WARNING:tensorflow:From /home/philippe/Documents/UCB/S2/FinTech/SeqGAN_CDS/discriminator.py:115: calling dropout (from tensorflow.python.ops.nn_ops) with keep_prob is deprecated and will be removed in a future version.\n",
      "Instructions for updating:\n",
      "Please use `rate` instead of `keep_prob`. Rate should be set to `rate = 1 - keep_prob`.\n",
      "WARNING:tensorflow:From /home/philippe/Documents/UCB/S2/FinTech/SeqGAN_CDS/discriminator.py:123: The name tf.nn.xw_plus_b is deprecated. Please use tf.compat.v1.nn.xw_plus_b instead.\n",
      "\n",
      "WARNING:tensorflow:From /home/philippe/Documents/UCB/S2/FinTech/SeqGAN_CDS/discriminator.py:129: softmax_cross_entropy_with_logits (from tensorflow.python.ops.nn_ops) is deprecated and will be removed in a future version.\n",
      "Instructions for updating:\n",
      "\n",
      "Future major versions of TensorFlow will allow gradients to flow\n",
      "into the labels input on backprop by default.\n",
      "\n",
      "See `tf.nn.softmax_cross_entropy_with_logits_v2`.\n",
      "\n",
      "WARNING:tensorflow:From /home/philippe/Documents/UCB/S2/FinTech/SeqGAN_CDS/discriminator.py:132: The name tf.trainable_variables is deprecated. Please use tf.compat.v1.trainable_variables instead.\n",
      "\n",
      "INFO:tensorflow:Restoring parameters from ./results5/model.ckpt\n",
      "Model restored.\n"
     ]
    }
   ],
   "source": [
    "random.seed(SEED)\n",
    "np.random.seed(SEED)\n",
    "\n",
    "generator = Generator(VOCAB_SIZE, BATCH_SIZE, EMB_DIM, HIDDEN_DIM, SEQ_LENGTH, START_TOKEN)\n",
    "\n",
    "discriminator = Discriminator(sequence_length=SEQ_LENGTH, num_classes=2, vocab_size=VOCAB_SIZE, embedding_size=dis_embedding_dim,\n",
    "                            filter_sizes=dis_filter_sizes, num_filters=dis_num_filters, l2_reg_lambda=dis_l2_reg_lambda)\n",
    "\n",
    "config = tf.ConfigProto()\n",
    "sess = tf.Session(config=config)\n",
    "sess.run(tf.global_variables_initializer())\n",
    "saver = tf.train.Saver()\n",
    "\n",
    "saver.restore(sess, MODEL_FILE)\n",
    "print(\"Model restored.\")"
   ]
  },
  {
   "cell_type": "code",
   "execution_count": 3,
   "metadata": {},
   "outputs": [],
   "source": [
    "generated_num = 37212 // SEQ_LENGTH\n",
    "\n",
    "generated_data = generate_samples(sess, generator, BATCH_SIZE, generated_num)"
   ]
  },
  {
   "cell_type": "code",
   "execution_count": 4,
   "metadata": {},
   "outputs": [
    {
     "data": {
      "text/plain": [
       "35200"
      ]
     },
     "execution_count": 4,
     "metadata": {},
     "output_type": "execute_result"
    }
   ],
   "source": [
    "len(generated_data)"
   ]
  },
  {
   "cell_type": "code",
   "execution_count": 5,
   "metadata": {},
   "outputs": [],
   "source": [
    "real_data = pd.read_hdf(real_data_file)"
   ]
  },
  {
   "cell_type": "code",
   "execution_count": 6,
   "metadata": {},
   "outputs": [
    {
     "data": {
      "text/plain": [
       "count    37212.000000\n",
       "mean        10.872953\n",
       "std        100.863908\n",
       "min       -847.250000\n",
       "25%          0.612000\n",
       "50%          0.705000\n",
       "75%          1.038212\n",
       "max      10706.250000\n",
       "Name: PRICE, dtype: float64"
      ]
     },
     "execution_count": 6,
     "metadata": {},
     "output_type": "execute_result"
    }
   ],
   "source": [
    "real_data[\"PRICE\"].describe()"
   ]
  },
  {
   "cell_type": "code",
   "execution_count": 7,
   "metadata": {},
   "outputs": [
    {
     "data": {
      "text/plain": [
       "count    18633.000000\n",
       "mean         0.735935\n",
       "std          0.109164\n",
       "min          0.612000\n",
       "25%          0.650000\n",
       "50%          0.704788\n",
       "75%          0.792500\n",
       "max          1.038200\n",
       "Name: PRICE, dtype: float64"
      ]
     },
     "execution_count": 7,
     "metadata": {},
     "output_type": "execute_result"
    }
   ],
   "source": [
    "real_data[\"PRICE\"][real_data[\"PRICE\"] >= 0.612][real_data[\"PRICE\"] <= 1.038212].describe()"
   ]
  },
  {
   "cell_type": "code",
   "execution_count": 8,
   "metadata": {},
   "outputs": [
    {
     "data": {
      "text/plain": [
       "<matplotlib.axes._subplots.AxesSubplot at 0x7f5199e4cb38>"
      ]
     },
     "execution_count": 8,
     "metadata": {},
     "output_type": "execute_result"
    },
    {
     "data": {
      "image/png": "[encoded data removed]",
      "text/plain": [
       "<Figure size 432x288 with 1 Axes>"
      ]
     },
     "metadata": {
      "needs_background": "light"
     },
     "output_type": "display_data"
    }
   ],
   "source": [
    "real_data[\"PRICE\"][real_data[\"PRICE\"] >= 0.612][real_data[\"PRICE\"] <= 1.038212].hist(bins=100)"
   ]
  },
  {
   "cell_type": "code",
   "execution_count": 9,
   "metadata": {},
   "outputs": [
    {
     "data": {
      "text/plain": [
       "count    37212.000000\n",
       "mean        48.702850\n",
       "std         43.639668\n",
       "min          0.000005\n",
       "25%         13.000000\n",
       "50%         42.000000\n",
       "75%         75.000000\n",
       "max        320.000000\n",
       "Name: ROUNDED_NOTIONAL_AMOUNT, dtype: float64"
      ]
     },
     "execution_count": 9,
     "metadata": {},
     "output_type": "execute_result"
    }
   ],
   "source": [
    "real_data[\"ROUNDED_NOTIONAL_AMOUNT\"].describe()"
   ]
  },
  {
   "cell_type": "code",
   "execution_count": 10,
   "metadata": {},
   "outputs": [
    {
     "data": {
      "text/plain": [
       "count    19402.000000\n",
       "mean        39.495567\n",
       "std         16.142110\n",
       "min         13.000000\n",
       "25%         25.000000\n",
       "50%         46.000000\n",
       "75%         50.000000\n",
       "max         75.000000\n",
       "Name: ROUNDED_NOTIONAL_AMOUNT, dtype: float64"
      ]
     },
     "execution_count": 10,
     "metadata": {},
     "output_type": "execute_result"
    }
   ],
   "source": [
    "real_data[\"ROUNDED_NOTIONAL_AMOUNT\"][real_data[\"ROUNDED_NOTIONAL_AMOUNT\"] >= 13][real_data[\"ROUNDED_NOTIONAL_AMOUNT\"] <= 75].describe()"
   ]
  },
  {
   "cell_type": "code",
   "execution_count": 11,
   "metadata": {},
   "outputs": [
    {
     "data": {
      "text/plain": [
       "<matplotlib.axes._subplots.AxesSubplot at 0x7f5199599588>"
      ]
     },
     "execution_count": 11,
     "metadata": {},
     "output_type": "execute_result"
    },
    {
     "data": {
      "image/png": "[encoded data removed]",
      "text/plain": [
       "<Figure size 432x288 with 1 Axes>"
      ]
     },
     "metadata": {
      "needs_background": "light"
     },
     "output_type": "display_data"
    }
   ],
   "source": [
    "real_data[\"ROUNDED_NOTIONAL_AMOUNT\"][real_data[\"ROUNDED_NOTIONAL_AMOUNT\"] >= 13][real_data[\"ROUNDED_NOTIONAL_AMOUNT\"] <= 75].hist(bins=100)"
   ]
  },
  {
   "cell_type": "code",
   "execution_count": 12,
   "metadata": {},
   "outputs": [
    {
     "data": {
      "text/html": [
       "<div>\n",
       "<style scoped>\n",
       "    .dataframe tbody tr th:only-of-type {\n",
       "        vertical-align: middle;\n",
       "    }\n",
       "\n",
       "    .dataframe tbody tr th {\n",
       "        vertical-align: top;\n",
       "    }\n",
       "\n",
       "    .dataframe thead th {\n",
       "        text-align: right;\n",
       "    }\n",
       "</style>\n",
       "<table border=\"1\" class=\"dataframe\">\n",
       "  <thead>\n",
       "    <tr style=\"text-align: right;\">\n",
       "      <th></th>\n",
       "      <th>PRICE</th>\n",
       "      <th>ROUNDED_NOTIONAL_AMOUNT</th>\n",
       "      <th>CLEARED</th>\n",
       "      <th>ACTION</th>\n",
       "      <th>TAXONOMY</th>\n",
       "      <th>PRICE_FORMING_CONTINUATION_DATA</th>\n",
       "      <th>INDICATION_OF_COLLATERALIZATION</th>\n",
       "    </tr>\n",
       "  </thead>\n",
       "  <tbody>\n",
       "    <tr>\n",
       "      <th>0</th>\n",
       "      <td>0.668500</td>\n",
       "      <td>25.0</td>\n",
       "      <td>C</td>\n",
       "      <td>NEW</td>\n",
       "      <td>CDXIG</td>\n",
       "      <td>Trade</td>\n",
       "      <td>PC</td>\n",
       "    </tr>\n",
       "    <tr>\n",
       "      <th>1</th>\n",
       "      <td>0.668500</td>\n",
       "      <td>50.0</td>\n",
       "      <td>C</td>\n",
       "      <td>NEW</td>\n",
       "      <td>CDXIG</td>\n",
       "      <td>Trade</td>\n",
       "      <td>PC</td>\n",
       "    </tr>\n",
       "    <tr>\n",
       "      <th>2</th>\n",
       "      <td>0.476875</td>\n",
       "      <td>150.0</td>\n",
       "      <td>C</td>\n",
       "      <td>NEW</td>\n",
       "      <td>CDXIG</td>\n",
       "      <td>Trade</td>\n",
       "      <td>PC</td>\n",
       "    </tr>\n",
       "    <tr>\n",
       "      <th>3</th>\n",
       "      <td>0.478750</td>\n",
       "      <td>85.0</td>\n",
       "      <td>C</td>\n",
       "      <td>NEW</td>\n",
       "      <td>CDXIG</td>\n",
       "      <td>Trade</td>\n",
       "      <td>PC</td>\n",
       "    </tr>\n",
       "    <tr>\n",
       "      <th>4</th>\n",
       "      <td>0.680000</td>\n",
       "      <td>62.0</td>\n",
       "      <td>C</td>\n",
       "      <td>NEW</td>\n",
       "      <td>CDXIG</td>\n",
       "      <td>Trade</td>\n",
       "      <td>PC</td>\n",
       "    </tr>\n",
       "    <tr>\n",
       "      <th>5</th>\n",
       "      <td>0.678125</td>\n",
       "      <td>110.0</td>\n",
       "      <td>C</td>\n",
       "      <td>NEW</td>\n",
       "      <td>CDXIG</td>\n",
       "      <td>Trade</td>\n",
       "      <td>PC</td>\n",
       "    </tr>\n",
       "    <tr>\n",
       "      <th>6</th>\n",
       "      <td>0.678000</td>\n",
       "      <td>100.0</td>\n",
       "      <td>C</td>\n",
       "      <td>NEW</td>\n",
       "      <td>CDXIG</td>\n",
       "      <td>Trade</td>\n",
       "      <td>PC</td>\n",
       "    </tr>\n",
       "    <tr>\n",
       "      <th>7</th>\n",
       "      <td>0.678000</td>\n",
       "      <td>100.0</td>\n",
       "      <td>C</td>\n",
       "      <td>CANCEL</td>\n",
       "      <td>CDXIG</td>\n",
       "      <td>Trade</td>\n",
       "      <td>PC</td>\n",
       "    </tr>\n",
       "    <tr>\n",
       "      <th>8</th>\n",
       "      <td>0.678000</td>\n",
       "      <td>100.0</td>\n",
       "      <td>C</td>\n",
       "      <td>CORRECT</td>\n",
       "      <td>CDXIG</td>\n",
       "      <td>Trade</td>\n",
       "      <td>PC</td>\n",
       "    </tr>\n",
       "    <tr>\n",
       "      <th>9</th>\n",
       "      <td>0.678000</td>\n",
       "      <td>25.0</td>\n",
       "      <td>C</td>\n",
       "      <td>NEW</td>\n",
       "      <td>CDXIG</td>\n",
       "      <td>Trade</td>\n",
       "      <td>UC</td>\n",
       "    </tr>\n",
       "    <tr>\n",
       "      <th>10</th>\n",
       "      <td>0.678000</td>\n",
       "      <td>25.0</td>\n",
       "      <td>C</td>\n",
       "      <td>CANCEL</td>\n",
       "      <td>CDXIG</td>\n",
       "      <td>Trade</td>\n",
       "      <td>UC</td>\n",
       "    </tr>\n",
       "    <tr>\n",
       "      <th>11</th>\n",
       "      <td>0.678000</td>\n",
       "      <td>110.0</td>\n",
       "      <td>C</td>\n",
       "      <td>NEW</td>\n",
       "      <td>CDXIG</td>\n",
       "      <td>Trade</td>\n",
       "      <td>PC</td>\n",
       "    </tr>\n",
       "    <tr>\n",
       "      <th>12</th>\n",
       "      <td>0.677900</td>\n",
       "      <td>40.0</td>\n",
       "      <td>U</td>\n",
       "      <td>NEW</td>\n",
       "      <td>CDXIG</td>\n",
       "      <td>Trade</td>\n",
       "      <td>PC</td>\n",
       "    </tr>\n",
       "    <tr>\n",
       "      <th>13</th>\n",
       "      <td>0.680000</td>\n",
       "      <td>50.0</td>\n",
       "      <td>C</td>\n",
       "      <td>NEW</td>\n",
       "      <td>CDXIG</td>\n",
       "      <td>Trade</td>\n",
       "      <td>PC</td>\n",
       "    </tr>\n",
       "    <tr>\n",
       "      <th>14</th>\n",
       "      <td>0.685000</td>\n",
       "      <td>50.0</td>\n",
       "      <td>C</td>\n",
       "      <td>NEW</td>\n",
       "      <td>CDXIG</td>\n",
       "      <td>Trade</td>\n",
       "      <td>PC</td>\n",
       "    </tr>\n",
       "    <tr>\n",
       "      <th>15</th>\n",
       "      <td>0.685000</td>\n",
       "      <td>50.0</td>\n",
       "      <td>C</td>\n",
       "      <td>CANCEL</td>\n",
       "      <td>CDXIG</td>\n",
       "      <td>Trade</td>\n",
       "      <td>PC</td>\n",
       "    </tr>\n",
       "    <tr>\n",
       "      <th>16</th>\n",
       "      <td>0.685000</td>\n",
       "      <td>50.0</td>\n",
       "      <td>C</td>\n",
       "      <td>CORRECT</td>\n",
       "      <td>CDXIG</td>\n",
       "      <td>Trade</td>\n",
       "      <td>PC</td>\n",
       "    </tr>\n",
       "    <tr>\n",
       "      <th>17</th>\n",
       "      <td>1.056750</td>\n",
       "      <td>5.0</td>\n",
       "      <td>C</td>\n",
       "      <td>NEW</td>\n",
       "      <td>CDXHY</td>\n",
       "      <td>Trade</td>\n",
       "      <td>UC</td>\n",
       "    </tr>\n",
       "    <tr>\n",
       "      <th>18</th>\n",
       "      <td>0.681000</td>\n",
       "      <td>100.0</td>\n",
       "      <td>C</td>\n",
       "      <td>NEW</td>\n",
       "      <td>CDXIG</td>\n",
       "      <td>Trade</td>\n",
       "      <td>PC</td>\n",
       "    </tr>\n",
       "    <tr>\n",
       "      <th>19</th>\n",
       "      <td>0.681500</td>\n",
       "      <td>75.0</td>\n",
       "      <td>C</td>\n",
       "      <td>NEW</td>\n",
       "      <td>CDXIG</td>\n",
       "      <td>Trade</td>\n",
       "      <td>PC</td>\n",
       "    </tr>\n",
       "    <tr>\n",
       "      <th>20</th>\n",
       "      <td>1.060400</td>\n",
       "      <td>10.0</td>\n",
       "      <td>C</td>\n",
       "      <td>NEW</td>\n",
       "      <td>CDXHY</td>\n",
       "      <td>Trade</td>\n",
       "      <td>UC</td>\n",
       "    </tr>\n",
       "    <tr>\n",
       "      <th>21</th>\n",
       "      <td>106.290001</td>\n",
       "      <td>50.0</td>\n",
       "      <td>U</td>\n",
       "      <td>NEW</td>\n",
       "      <td>CDXHY</td>\n",
       "      <td>Trade</td>\n",
       "      <td>UC</td>\n",
       "    </tr>\n",
       "    <tr>\n",
       "      <th>22</th>\n",
       "      <td>0.657000</td>\n",
       "      <td>110.0</td>\n",
       "      <td>C</td>\n",
       "      <td>NEW</td>\n",
       "      <td>CDXIG</td>\n",
       "      <td>Trade</td>\n",
       "      <td>PC</td>\n",
       "    </tr>\n",
       "    <tr>\n",
       "      <th>23</th>\n",
       "      <td>0.657000</td>\n",
       "      <td>50.0</td>\n",
       "      <td>C</td>\n",
       "      <td>NEW</td>\n",
       "      <td>CDXIG</td>\n",
       "      <td>Trade</td>\n",
       "      <td>PC</td>\n",
       "    </tr>\n",
       "    <tr>\n",
       "      <th>24</th>\n",
       "      <td>0.276250</td>\n",
       "      <td>5.0</td>\n",
       "      <td>C</td>\n",
       "      <td>NEW</td>\n",
       "      <td>CDXIG</td>\n",
       "      <td>Trade</td>\n",
       "      <td>UC</td>\n",
       "    </tr>\n",
       "    <tr>\n",
       "      <th>25</th>\n",
       "      <td>0.276250</td>\n",
       "      <td>5.0</td>\n",
       "      <td>C</td>\n",
       "      <td>NEW</td>\n",
       "      <td>CDXIG</td>\n",
       "      <td>Trade</td>\n",
       "      <td>UC</td>\n",
       "    </tr>\n",
       "    <tr>\n",
       "      <th>26</th>\n",
       "      <td>0.657000</td>\n",
       "      <td>25.0</td>\n",
       "      <td>C</td>\n",
       "      <td>NEW</td>\n",
       "      <td>CDXIG</td>\n",
       "      <td>Trade</td>\n",
       "      <td>PC</td>\n",
       "    </tr>\n",
       "    <tr>\n",
       "      <th>27</th>\n",
       "      <td>1.059300</td>\n",
       "      <td>5.0</td>\n",
       "      <td>C</td>\n",
       "      <td>NEW</td>\n",
       "      <td>CDXHY</td>\n",
       "      <td>Trade</td>\n",
       "      <td>UC</td>\n",
       "    </tr>\n",
       "    <tr>\n",
       "      <th>28</th>\n",
       "      <td>1.059300</td>\n",
       "      <td>5.0</td>\n",
       "      <td>C</td>\n",
       "      <td>NEW</td>\n",
       "      <td>CDXHY</td>\n",
       "      <td>Trade</td>\n",
       "      <td>UC</td>\n",
       "    </tr>\n",
       "    <tr>\n",
       "      <th>29</th>\n",
       "      <td>0.660000</td>\n",
       "      <td>100.0</td>\n",
       "      <td>C</td>\n",
       "      <td>NEW</td>\n",
       "      <td>CDXIG</td>\n",
       "      <td>Trade</td>\n",
       "      <td>PC</td>\n",
       "    </tr>\n",
       "  </tbody>\n",
       "</table>\n",
       "</div>"
      ],
      "text/plain": [
       "         PRICE  ROUNDED_NOTIONAL_AMOUNT CLEARED   ACTION TAXONOMY  \\\n",
       "0     0.668500                     25.0       C      NEW    CDXIG   \n",
       "1     0.668500                     50.0       C      NEW    CDXIG   \n",
       "2     0.476875                    150.0       C      NEW    CDXIG   \n",
       "3     0.478750                     85.0       C      NEW    CDXIG   \n",
       "4     0.680000                     62.0       C      NEW    CDXIG   \n",
       "5     0.678125                    110.0       C      NEW    CDXIG   \n",
       "6     0.678000                    100.0       C      NEW    CDXIG   \n",
       "7     0.678000                    100.0       C   CANCEL    CDXIG   \n",
       "8     0.678000                    100.0       C  CORRECT    CDXIG   \n",
       "9     0.678000                     25.0       C      NEW    CDXIG   \n",
       "10    0.678000                     25.0       C   CANCEL    CDXIG   \n",
       "11    0.678000                    110.0       C      NEW    CDXIG   \n",
       "12    0.677900                     40.0       U      NEW    CDXIG   \n",
       "13    0.680000                     50.0       C      NEW    CDXIG   \n",
       "14    0.685000                     50.0       C      NEW    CDXIG   \n",
       "15    0.685000                     50.0       C   CANCEL    CDXIG   \n",
       "16    0.685000                     50.0       C  CORRECT    CDXIG   \n",
       "17    1.056750                      5.0       C      NEW    CDXHY   \n",
       "18    0.681000                    100.0       C      NEW    CDXIG   \n",
       "19    0.681500                     75.0       C      NEW    CDXIG   \n",
       "20    1.060400                     10.0       C      NEW    CDXHY   \n",
       "21  106.290001                     50.0       U      NEW    CDXHY   \n",
       "22    0.657000                    110.0       C      NEW    CDXIG   \n",
       "23    0.657000                     50.0       C      NEW    CDXIG   \n",
       "24    0.276250                      5.0       C      NEW    CDXIG   \n",
       "25    0.276250                      5.0       C      NEW    CDXIG   \n",
       "26    0.657000                     25.0       C      NEW    CDXIG   \n",
       "27    1.059300                      5.0       C      NEW    CDXHY   \n",
       "28    1.059300                      5.0       C      NEW    CDXHY   \n",
       "29    0.660000                    100.0       C      NEW    CDXIG   \n",
       "\n",
       "   PRICE_FORMING_CONTINUATION_DATA INDICATION_OF_COLLATERALIZATION  \n",
       "0                            Trade                              PC  \n",
       "1                            Trade                              PC  \n",
       "2                            Trade                              PC  \n",
       "3                            Trade                              PC  \n",
       "4                            Trade                              PC  \n",
       "5                            Trade                              PC  \n",
       "6                            Trade                              PC  \n",
       "7                            Trade                              PC  \n",
       "8                            Trade                              PC  \n",
       "9                            Trade                              UC  \n",
       "10                           Trade                              UC  \n",
       "11                           Trade                              PC  \n",
       "12                           Trade                              PC  \n",
       "13                           Trade                              PC  \n",
       "14                           Trade                              PC  \n",
       "15                           Trade                              PC  \n",
       "16                           Trade                              PC  \n",
       "17                           Trade                              UC  \n",
       "18                           Trade                              PC  \n",
       "19                           Trade                              PC  \n",
       "20                           Trade                              UC  \n",
       "21                           Trade                              UC  \n",
       "22                           Trade                              PC  \n",
       "23                           Trade                              PC  \n",
       "24                           Trade                              UC  \n",
       "25                           Trade                              UC  \n",
       "26                           Trade                              PC  \n",
       "27                           Trade                              UC  \n",
       "28                           Trade                              UC  \n",
       "29                           Trade                              PC  "
      ]
     },
     "execution_count": 12,
     "metadata": {},
     "output_type": "execute_result"
    }
   ],
   "source": [
    "real_data.head(30)"
   ]
  },
  {
   "cell_type": "code",
   "execution_count": 13,
   "metadata": {},
   "outputs": [
    {
     "data": {
      "text/plain": [
       "37212"
      ]
     },
     "execution_count": 13,
     "metadata": {},
     "output_type": "execute_result"
    }
   ],
   "source": [
    "len(real_data)"
   ]
  },
  {
   "cell_type": "code",
   "execution_count": 14,
   "metadata": {},
   "outputs": [
    {
     "data": {
      "text/html": [
       "<div>\n",
       "<style scoped>\n",
       "    .dataframe tbody tr th:only-of-type {\n",
       "        vertical-align: middle;\n",
       "    }\n",
       "\n",
       "    .dataframe tbody tr th {\n",
       "        vertical-align: top;\n",
       "    }\n",
       "\n",
       "    .dataframe thead th {\n",
       "        text-align: right;\n",
       "    }\n",
       "</style>\n",
       "<table border=\"1\" class=\"dataframe\">\n",
       "  <thead>\n",
       "    <tr style=\"text-align: right;\">\n",
       "      <th></th>\n",
       "      <th>PRICE</th>\n",
       "      <th>ROUNDED_NOTIONAL_AMOUNT</th>\n",
       "      <th>category</th>\n",
       "    </tr>\n",
       "  </thead>\n",
       "  <tbody>\n",
       "    <tr>\n",
       "      <th>0</th>\n",
       "      <td>-0.005210</td>\n",
       "      <td>0.0</td>\n",
       "      <td>7</td>\n",
       "    </tr>\n",
       "    <tr>\n",
       "      <th>1</th>\n",
       "      <td>-0.000865</td>\n",
       "      <td>0.0</td>\n",
       "      <td>102</td>\n",
       "    </tr>\n",
       "    <tr>\n",
       "      <th>2</th>\n",
       "      <td>0.003205</td>\n",
       "      <td>0.0</td>\n",
       "      <td>65</td>\n",
       "    </tr>\n",
       "    <tr>\n",
       "      <th>3</th>\n",
       "      <td>0.010740</td>\n",
       "      <td>0.0</td>\n",
       "      <td>76</td>\n",
       "    </tr>\n",
       "    <tr>\n",
       "      <th>4</th>\n",
       "      <td>-0.001210</td>\n",
       "      <td>0.0</td>\n",
       "      <td>104</td>\n",
       "    </tr>\n",
       "  </tbody>\n",
       "</table>\n",
       "</div>"
      ],
      "text/plain": [
       "      PRICE  ROUNDED_NOTIONAL_AMOUNT  category\n",
       "0 -0.005210                      0.0         7\n",
       "1 -0.000865                      0.0       102\n",
       "2  0.003205                      0.0        65\n",
       "3  0.010740                      0.0        76\n",
       "4 -0.001210                      0.0       104"
      ]
     },
     "execution_count": 14,
     "metadata": {},
     "output_type": "execute_result"
    }
   ],
   "source": [
    "generated_data.head()"
   ]
  },
  {
   "cell_type": "code",
   "execution_count": 15,
   "metadata": {},
   "outputs": [
    {
     "data": {
      "text/plain": [
       "112"
      ]
     },
     "execution_count": 15,
     "metadata": {},
     "output_type": "execute_result"
    }
   ],
   "source": [
    "import pickle\n",
    "with open(\"index_to_category.pkl\", \"rb\") as f:\n",
    "    index_to_category = pickle.load(f)\n",
    "\n",
    "len(index_to_category)"
   ]
  },
  {
   "cell_type": "code",
   "execution_count": 16,
   "metadata": {},
   "outputs": [
    {
     "name": "stderr",
     "output_type": "stream",
     "text": [
      "/home/philippe/.virtualenvs/fintech/lib/python3.7/site-packages/ipykernel_launcher.py:14: SettingWithCopyWarning: \n",
      "A value is trying to be set on a copy of a slice from a DataFrame\n",
      "\n",
      "See the caveats in the documentation: https://pandas.pydata.org/pandas-docs/stable/user_guide/indexing.html#returning-a-view-versus-a-copy\n",
      "  \n"
     ]
    },
    {
     "data": {
      "text/html": [
       "<div>\n",
       "<style scoped>\n",
       "    .dataframe tbody tr th:only-of-type {\n",
       "        vertical-align: middle;\n",
       "    }\n",
       "\n",
       "    .dataframe tbody tr th {\n",
       "        vertical-align: top;\n",
       "    }\n",
       "\n",
       "    .dataframe thead th {\n",
       "        text-align: right;\n",
       "    }\n",
       "</style>\n",
       "<table border=\"1\" class=\"dataframe\">\n",
       "  <thead>\n",
       "    <tr style=\"text-align: right;\">\n",
       "      <th></th>\n",
       "      <th>PRICE</th>\n",
       "      <th>ROUNDED_NOTIONAL_AMOUNT</th>\n",
       "      <th>category</th>\n",
       "      <th>CLEARED</th>\n",
       "      <th>ACTION</th>\n",
       "      <th>TAXONOMY</th>\n",
       "      <th>PRICE_FORMING_CONTINUATION_DATA</th>\n",
       "      <th>INDICATION_OF_COLLATERALIZATION</th>\n",
       "    </tr>\n",
       "  </thead>\n",
       "  <tbody>\n",
       "    <tr>\n",
       "      <th>0</th>\n",
       "      <td>-0.005210</td>\n",
       "      <td>0.0</td>\n",
       "      <td>7</td>\n",
       "      <td>U</td>\n",
       "      <td>NEW</td>\n",
       "      <td>CDXIG</td>\n",
       "      <td>Partialtermination</td>\n",
       "      <td>PC</td>\n",
       "    </tr>\n",
       "    <tr>\n",
       "      <th>1</th>\n",
       "      <td>-0.000865</td>\n",
       "      <td>0.0</td>\n",
       "      <td>102</td>\n",
       "      <td>U</td>\n",
       "      <td>NEW</td>\n",
       "      <td>CDXIG</td>\n",
       "      <td>Amendment</td>\n",
       "      <td>UC</td>\n",
       "    </tr>\n",
       "    <tr>\n",
       "      <th>2</th>\n",
       "      <td>0.003205</td>\n",
       "      <td>0.0</td>\n",
       "      <td>65</td>\n",
       "      <td>C</td>\n",
       "      <td>CANCEL</td>\n",
       "      <td>CDXHY</td>\n",
       "      <td>Trade</td>\n",
       "      <td>OC</td>\n",
       "    </tr>\n",
       "    <tr>\n",
       "      <th>3</th>\n",
       "      <td>0.010740</td>\n",
       "      <td>0.0</td>\n",
       "      <td>76</td>\n",
       "      <td>U</td>\n",
       "      <td>CANCEL</td>\n",
       "      <td>CDXIG</td>\n",
       "      <td>Partialtermination</td>\n",
       "      <td>UC</td>\n",
       "    </tr>\n",
       "    <tr>\n",
       "      <th>4</th>\n",
       "      <td>-0.001210</td>\n",
       "      <td>0.0</td>\n",
       "      <td>104</td>\n",
       "      <td>U</td>\n",
       "      <td>CORRECT</td>\n",
       "      <td>CDXHY</td>\n",
       "      <td>Partialtermination</td>\n",
       "      <td>PC</td>\n",
       "    </tr>\n",
       "  </tbody>\n",
       "</table>\n",
       "</div>"
      ],
      "text/plain": [
       "      PRICE  ROUNDED_NOTIONAL_AMOUNT  category CLEARED   ACTION TAXONOMY  \\\n",
       "0 -0.005210                      0.0         7       U      NEW    CDXIG   \n",
       "1 -0.000865                      0.0       102       U      NEW    CDXIG   \n",
       "2  0.003205                      0.0        65       C   CANCEL    CDXHY   \n",
       "3  0.010740                      0.0        76       U   CANCEL    CDXIG   \n",
       "4 -0.001210                      0.0       104       U  CORRECT    CDXHY   \n",
       "\n",
       "  PRICE_FORMING_CONTINUATION_DATA INDICATION_OF_COLLATERALIZATION  \n",
       "0              Partialtermination                              PC  \n",
       "1                       Amendment                              UC  \n",
       "2                           Trade                              OC  \n",
       "3              Partialtermination                              UC  \n",
       "4              Partialtermination                              PC  "
      ]
     },
     "execution_count": 16,
     "metadata": {},
     "output_type": "execute_result"
    }
   ],
   "source": [
    "generated_data[\"CLEARED\"] = \"\"\n",
    "generated_data[\"ACTION\"] = \"\"\n",
    "generated_data[\"TAXONOMY\"] = \"\"\n",
    "generated_data[\"PRICE_FORMING_CONTINUATION_DATA\"] = \"\"\n",
    "generated_data[\"INDICATION_OF_COLLATERALIZATION\"] = \"\"\n",
    "\n",
    "for i in range(len(generated_data)):\n",
    "    tmp = index_to_category[generated_data[\"category\"][i]]\n",
    "    generated_data[\"CLEARED\"][i], \\\n",
    "    generated_data[\"ACTION\"][i], \\\n",
    "    generated_data[\"TAXONOMY\"][i], \\\n",
    "    generated_data[\"PRICE_FORMING_CONTINUATION_DATA\"][i], \\\n",
    "    generated_data[\"INDICATION_OF_COLLATERALIZATION\"][i] = \\\n",
    "    tmp.split(\",\")\n",
    "\n",
    "generated_data.head()"
   ]
  },
  {
   "cell_type": "code",
   "execution_count": 17,
   "metadata": {},
   "outputs": [
    {
     "data": {
      "text/html": [
       "<div>\n",
       "<style scoped>\n",
       "    .dataframe tbody tr th:only-of-type {\n",
       "        vertical-align: middle;\n",
       "    }\n",
       "\n",
       "    .dataframe tbody tr th {\n",
       "        vertical-align: top;\n",
       "    }\n",
       "\n",
       "    .dataframe thead th {\n",
       "        text-align: right;\n",
       "    }\n",
       "</style>\n",
       "<table border=\"1\" class=\"dataframe\">\n",
       "  <thead>\n",
       "    <tr style=\"text-align: right;\">\n",
       "      <th></th>\n",
       "      <th>PRICE</th>\n",
       "      <th>ROUNDED_NOTIONAL_AMOUNT</th>\n",
       "      <th>category</th>\n",
       "      <th>CLEARED</th>\n",
       "      <th>ACTION</th>\n",
       "      <th>TAXONOMY</th>\n",
       "      <th>PRICE_FORMING_CONTINUATION_DATA</th>\n",
       "      <th>INDICATION_OF_COLLATERALIZATION</th>\n",
       "    </tr>\n",
       "  </thead>\n",
       "  <tbody>\n",
       "    <tr>\n",
       "      <th>0</th>\n",
       "      <td>-0.005210</td>\n",
       "      <td>0.0</td>\n",
       "      <td>7</td>\n",
       "      <td>U</td>\n",
       "      <td>NEW</td>\n",
       "      <td>CDXIG</td>\n",
       "      <td>Partialtermination</td>\n",
       "      <td>PC</td>\n",
       "    </tr>\n",
       "    <tr>\n",
       "      <th>1</th>\n",
       "      <td>-0.000865</td>\n",
       "      <td>0.0</td>\n",
       "      <td>102</td>\n",
       "      <td>U</td>\n",
       "      <td>NEW</td>\n",
       "      <td>CDXIG</td>\n",
       "      <td>Amendment</td>\n",
       "      <td>UC</td>\n",
       "    </tr>\n",
       "    <tr>\n",
       "      <th>2</th>\n",
       "      <td>0.003205</td>\n",
       "      <td>0.0</td>\n",
       "      <td>65</td>\n",
       "      <td>C</td>\n",
       "      <td>CANCEL</td>\n",
       "      <td>CDXHY</td>\n",
       "      <td>Trade</td>\n",
       "      <td>OC</td>\n",
       "    </tr>\n",
       "    <tr>\n",
       "      <th>3</th>\n",
       "      <td>0.010740</td>\n",
       "      <td>0.0</td>\n",
       "      <td>76</td>\n",
       "      <td>U</td>\n",
       "      <td>CANCEL</td>\n",
       "      <td>CDXIG</td>\n",
       "      <td>Partialtermination</td>\n",
       "      <td>UC</td>\n",
       "    </tr>\n",
       "    <tr>\n",
       "      <th>4</th>\n",
       "      <td>-0.001210</td>\n",
       "      <td>0.0</td>\n",
       "      <td>104</td>\n",
       "      <td>U</td>\n",
       "      <td>CORRECT</td>\n",
       "      <td>CDXHY</td>\n",
       "      <td>Partialtermination</td>\n",
       "      <td>PC</td>\n",
       "    </tr>\n",
       "    <tr>\n",
       "      <th>5</th>\n",
       "      <td>-0.003680</td>\n",
       "      <td>0.0</td>\n",
       "      <td>39</td>\n",
       "      <td>U</td>\n",
       "      <td>CORRECT</td>\n",
       "      <td>CDXIG</td>\n",
       "      <td>Partialtermination</td>\n",
       "      <td>UC</td>\n",
       "    </tr>\n",
       "    <tr>\n",
       "      <th>6</th>\n",
       "      <td>-0.005305</td>\n",
       "      <td>0.0</td>\n",
       "      <td>44</td>\n",
       "      <td>C</td>\n",
       "      <td>NEW</td>\n",
       "      <td>CDXIG</td>\n",
       "      <td>Trade</td>\n",
       "      <td>OC</td>\n",
       "    </tr>\n",
       "    <tr>\n",
       "      <th>7</th>\n",
       "      <td>0.005305</td>\n",
       "      <td>0.0</td>\n",
       "      <td>81</td>\n",
       "      <td>C</td>\n",
       "      <td>NEW</td>\n",
       "      <td>CDXHY</td>\n",
       "      <td>Novation</td>\n",
       "      <td>UC</td>\n",
       "    </tr>\n",
       "    <tr>\n",
       "      <th>8</th>\n",
       "      <td>0.002355</td>\n",
       "      <td>0.0</td>\n",
       "      <td>104</td>\n",
       "      <td>U</td>\n",
       "      <td>CORRECT</td>\n",
       "      <td>CDXHY</td>\n",
       "      <td>Partialtermination</td>\n",
       "      <td>PC</td>\n",
       "    </tr>\n",
       "    <tr>\n",
       "      <th>9</th>\n",
       "      <td>-0.001950</td>\n",
       "      <td>0.0</td>\n",
       "      <td>37</td>\n",
       "      <td>U</td>\n",
       "      <td>CANCEL</td>\n",
       "      <td>CDXIG</td>\n",
       "      <td>Trade</td>\n",
       "      <td>UC</td>\n",
       "    </tr>\n",
       "    <tr>\n",
       "      <th>10</th>\n",
       "      <td>-0.001925</td>\n",
       "      <td>0.0</td>\n",
       "      <td>64</td>\n",
       "      <td>U</td>\n",
       "      <td>CORRECT</td>\n",
       "      <td>CDXHY</td>\n",
       "      <td>Amendment</td>\n",
       "      <td>FC</td>\n",
       "    </tr>\n",
       "    <tr>\n",
       "      <th>11</th>\n",
       "      <td>-0.004535</td>\n",
       "      <td>0.0</td>\n",
       "      <td>2</td>\n",
       "      <td>U</td>\n",
       "      <td>NEW</td>\n",
       "      <td>CDXHY</td>\n",
       "      <td>Amendment</td>\n",
       "      <td>PC</td>\n",
       "    </tr>\n",
       "    <tr>\n",
       "      <th>12</th>\n",
       "      <td>-0.006260</td>\n",
       "      <td>0.0</td>\n",
       "      <td>61</td>\n",
       "      <td>C</td>\n",
       "      <td>CORRECT</td>\n",
       "      <td>CDXIG</td>\n",
       "      <td>Amendment</td>\n",
       "      <td>FC</td>\n",
       "    </tr>\n",
       "    <tr>\n",
       "      <th>13</th>\n",
       "      <td>-0.009005</td>\n",
       "      <td>0.0</td>\n",
       "      <td>91</td>\n",
       "      <td>C</td>\n",
       "      <td>CORRECT</td>\n",
       "      <td>CDXHY</td>\n",
       "      <td>Trade</td>\n",
       "      <td>PC</td>\n",
       "    </tr>\n",
       "    <tr>\n",
       "      <th>14</th>\n",
       "      <td>-0.009930</td>\n",
       "      <td>0.0</td>\n",
       "      <td>111</td>\n",
       "      <td>U</td>\n",
       "      <td>NEW</td>\n",
       "      <td>CDXIG</td>\n",
       "      <td>Amendment</td>\n",
       "      <td>OC</td>\n",
       "    </tr>\n",
       "    <tr>\n",
       "      <th>15</th>\n",
       "      <td>-0.004345</td>\n",
       "      <td>0.0</td>\n",
       "      <td>35</td>\n",
       "      <td>C</td>\n",
       "      <td>CANCEL</td>\n",
       "      <td>CDXIG</td>\n",
       "      <td>Novation</td>\n",
       "      <td>UC</td>\n",
       "    </tr>\n",
       "    <tr>\n",
       "      <th>16</th>\n",
       "      <td>-0.002735</td>\n",
       "      <td>0.0</td>\n",
       "      <td>98</td>\n",
       "      <td>U</td>\n",
       "      <td>NEW</td>\n",
       "      <td>CDXIG</td>\n",
       "      <td>Novation</td>\n",
       "      <td>FC</td>\n",
       "    </tr>\n",
       "    <tr>\n",
       "      <th>17</th>\n",
       "      <td>-0.002005</td>\n",
       "      <td>0.0</td>\n",
       "      <td>69</td>\n",
       "      <td>U</td>\n",
       "      <td>CANCEL</td>\n",
       "      <td>CDXHY</td>\n",
       "      <td>Partialtermination</td>\n",
       "      <td>PC</td>\n",
       "    </tr>\n",
       "    <tr>\n",
       "      <th>18</th>\n",
       "      <td>-0.001860</td>\n",
       "      <td>0.0</td>\n",
       "      <td>100</td>\n",
       "      <td>C</td>\n",
       "      <td>CANCEL</td>\n",
       "      <td>CDXIG</td>\n",
       "      <td>Trade</td>\n",
       "      <td>PC</td>\n",
       "    </tr>\n",
       "    <tr>\n",
       "      <th>19</th>\n",
       "      <td>-0.006390</td>\n",
       "      <td>0.0</td>\n",
       "      <td>109</td>\n",
       "      <td>U</td>\n",
       "      <td>CANCEL</td>\n",
       "      <td>CDXIG</td>\n",
       "      <td>Trade</td>\n",
       "      <td>OC</td>\n",
       "    </tr>\n",
       "    <tr>\n",
       "      <th>20</th>\n",
       "      <td>-0.004235</td>\n",
       "      <td>0.0</td>\n",
       "      <td>26</td>\n",
       "      <td>U</td>\n",
       "      <td>CORRECT</td>\n",
       "      <td>CDXHY</td>\n",
       "      <td>Trade</td>\n",
       "      <td>FC</td>\n",
       "    </tr>\n",
       "    <tr>\n",
       "      <th>21</th>\n",
       "      <td>0.000345</td>\n",
       "      <td>0.0</td>\n",
       "      <td>32</td>\n",
       "      <td>C</td>\n",
       "      <td>NEW</td>\n",
       "      <td>CDXIG</td>\n",
       "      <td>Novation</td>\n",
       "      <td>UC</td>\n",
       "    </tr>\n",
       "    <tr>\n",
       "      <th>22</th>\n",
       "      <td>-0.000680</td>\n",
       "      <td>0.0</td>\n",
       "      <td>70</td>\n",
       "      <td>U</td>\n",
       "      <td>CORRECT</td>\n",
       "      <td>CDXIG</td>\n",
       "      <td>Trade</td>\n",
       "      <td>UC</td>\n",
       "    </tr>\n",
       "    <tr>\n",
       "      <th>23</th>\n",
       "      <td>0.014355</td>\n",
       "      <td>0.0</td>\n",
       "      <td>108</td>\n",
       "      <td>U</td>\n",
       "      <td>NEW</td>\n",
       "      <td>CDXHY</td>\n",
       "      <td>Novation</td>\n",
       "      <td>PC</td>\n",
       "    </tr>\n",
       "    <tr>\n",
       "      <th>24</th>\n",
       "      <td>0.013985</td>\n",
       "      <td>0.0</td>\n",
       "      <td>98</td>\n",
       "      <td>U</td>\n",
       "      <td>NEW</td>\n",
       "      <td>CDXIG</td>\n",
       "      <td>Novation</td>\n",
       "      <td>FC</td>\n",
       "    </tr>\n",
       "    <tr>\n",
       "      <th>25</th>\n",
       "      <td>0.002985</td>\n",
       "      <td>0.0</td>\n",
       "      <td>24</td>\n",
       "      <td>C</td>\n",
       "      <td>CANCEL</td>\n",
       "      <td>CDXIG</td>\n",
       "      <td>Amendment</td>\n",
       "      <td>PC</td>\n",
       "    </tr>\n",
       "    <tr>\n",
       "      <th>26</th>\n",
       "      <td>-0.001265</td>\n",
       "      <td>0.0</td>\n",
       "      <td>12</td>\n",
       "      <td>C</td>\n",
       "      <td>NEW</td>\n",
       "      <td>CDXHY</td>\n",
       "      <td>Trade</td>\n",
       "      <td>UC</td>\n",
       "    </tr>\n",
       "    <tr>\n",
       "      <th>27</th>\n",
       "      <td>-0.003350</td>\n",
       "      <td>0.0</td>\n",
       "      <td>86</td>\n",
       "      <td>U</td>\n",
       "      <td>NEW</td>\n",
       "      <td>CDXIG</td>\n",
       "      <td>Trade</td>\n",
       "      <td>FC</td>\n",
       "    </tr>\n",
       "    <tr>\n",
       "      <th>28</th>\n",
       "      <td>-0.006715</td>\n",
       "      <td>0.0</td>\n",
       "      <td>102</td>\n",
       "      <td>U</td>\n",
       "      <td>NEW</td>\n",
       "      <td>CDXIG</td>\n",
       "      <td>Amendment</td>\n",
       "      <td>UC</td>\n",
       "    </tr>\n",
       "    <tr>\n",
       "      <th>29</th>\n",
       "      <td>0.000595</td>\n",
       "      <td>0.0</td>\n",
       "      <td>98</td>\n",
       "      <td>U</td>\n",
       "      <td>NEW</td>\n",
       "      <td>CDXIG</td>\n",
       "      <td>Novation</td>\n",
       "      <td>FC</td>\n",
       "    </tr>\n",
       "  </tbody>\n",
       "</table>\n",
       "</div>"
      ],
      "text/plain": [
       "       PRICE  ROUNDED_NOTIONAL_AMOUNT  category CLEARED   ACTION TAXONOMY  \\\n",
       "0  -0.005210                      0.0         7       U      NEW    CDXIG   \n",
       "1  -0.000865                      0.0       102       U      NEW    CDXIG   \n",
       "2   0.003205                      0.0        65       C   CANCEL    CDXHY   \n",
       "3   0.010740                      0.0        76       U   CANCEL    CDXIG   \n",
       "4  -0.001210                      0.0       104       U  CORRECT    CDXHY   \n",
       "5  -0.003680                      0.0        39       U  CORRECT    CDXIG   \n",
       "6  -0.005305                      0.0        44       C      NEW    CDXIG   \n",
       "7   0.005305                      0.0        81       C      NEW    CDXHY   \n",
       "8   0.002355                      0.0       104       U  CORRECT    CDXHY   \n",
       "9  -0.001950                      0.0        37       U   CANCEL    CDXIG   \n",
       "10 -0.001925                      0.0        64       U  CORRECT    CDXHY   \n",
       "11 -0.004535                      0.0         2       U      NEW    CDXHY   \n",
       "12 -0.006260                      0.0        61       C  CORRECT    CDXIG   \n",
       "13 -0.009005                      0.0        91       C  CORRECT    CDXHY   \n",
       "14 -0.009930                      0.0       111       U      NEW    CDXIG   \n",
       "15 -0.004345                      0.0        35       C   CANCEL    CDXIG   \n",
       "16 -0.002735                      0.0        98       U      NEW    CDXIG   \n",
       "17 -0.002005                      0.0        69       U   CANCEL    CDXHY   \n",
       "18 -0.001860                      0.0       100       C   CANCEL    CDXIG   \n",
       "19 -0.006390                      0.0       109       U   CANCEL    CDXIG   \n",
       "20 -0.004235                      0.0        26       U  CORRECT    CDXHY   \n",
       "21  0.000345                      0.0        32       C      NEW    CDXIG   \n",
       "22 -0.000680                      0.0        70       U  CORRECT    CDXIG   \n",
       "23  0.014355                      0.0       108       U      NEW    CDXHY   \n",
       "24  0.013985                      0.0        98       U      NEW    CDXIG   \n",
       "25  0.002985                      0.0        24       C   CANCEL    CDXIG   \n",
       "26 -0.001265                      0.0        12       C      NEW    CDXHY   \n",
       "27 -0.003350                      0.0        86       U      NEW    CDXIG   \n",
       "28 -0.006715                      0.0       102       U      NEW    CDXIG   \n",
       "29  0.000595                      0.0        98       U      NEW    CDXIG   \n",
       "\n",
       "   PRICE_FORMING_CONTINUATION_DATA INDICATION_OF_COLLATERALIZATION  \n",
       "0               Partialtermination                              PC  \n",
       "1                        Amendment                              UC  \n",
       "2                            Trade                              OC  \n",
       "3               Partialtermination                              UC  \n",
       "4               Partialtermination                              PC  \n",
       "5               Partialtermination                              UC  \n",
       "6                            Trade                              OC  \n",
       "7                         Novation                              UC  \n",
       "8               Partialtermination                              PC  \n",
       "9                            Trade                              UC  \n",
       "10                       Amendment                              FC  \n",
       "11                       Amendment                              PC  \n",
       "12                       Amendment                              FC  \n",
       "13                           Trade                              PC  \n",
       "14                       Amendment                              OC  \n",
       "15                        Novation                              UC  \n",
       "16                        Novation                              FC  \n",
       "17              Partialtermination                              PC  \n",
       "18                           Trade                              PC  \n",
       "19                           Trade                              OC  \n",
       "20                           Trade                              FC  \n",
       "21                        Novation                              UC  \n",
       "22                           Trade                              UC  \n",
       "23                        Novation                              PC  \n",
       "24                        Novation                              FC  \n",
       "25                       Amendment                              PC  \n",
       "26                           Trade                              UC  \n",
       "27                           Trade                              FC  \n",
       "28                       Amendment                              UC  \n",
       "29                        Novation                              FC  "
      ]
     },
     "execution_count": 17,
     "metadata": {},
     "output_type": "execute_result"
    }
   ],
   "source": [
    "generated_data.head(30)"
   ]
  },
  {
   "cell_type": "code",
   "execution_count": 18,
   "metadata": {},
   "outputs": [],
   "source": [
    "generated_data.to_hdf(OUTPUT_DATAFRAME, key=\"CDS\", complib=\"zlib\", complevel=9, mode='w')"
   ]
  },
  {
   "cell_type": "code",
   "execution_count": 19,
   "metadata": {},
   "outputs": [],
   "source": [
    "assert not sum(generated_data[\"category\"] == 0)"
   ]
  },
  {
   "cell_type": "code",
   "execution_count": 20,
   "metadata": {},
   "outputs": [
    {
     "data": {
      "text/plain": [
       "<matplotlib.axes._subplots.AxesSubplot at 0x7f51993f4ba8>"
      ]
     },
     "execution_count": 20,
     "metadata": {},
     "output_type": "execute_result"
    },
    {
     "data": {
      "image/png": "[encoded data removed]",
      "text/plain": [
       "<Figure size 432x288 with 1 Axes>"
      ]
     },
     "metadata": {
      "needs_background": "light"
     },
     "output_type": "display_data"
    }
   ],
   "source": [
    "generated_data[\"PRICE\"].hist()"
   ]
  },
  {
   "cell_type": "code",
   "execution_count": 21,
   "metadata": {},
   "outputs": [
    {
     "data": {
      "text/plain": [
       "<matplotlib.axes._subplots.AxesSubplot at 0x7f5198b3d550>"
      ]
     },
     "execution_count": 21,
     "metadata": {},
     "output_type": "execute_result"
    },
    {
     "data": {
      "image/png": "[encoded data removed]",
      "text/plain": [
       "<Figure size 432x288 with 1 Axes>"
      ]
     },
     "metadata": {
      "needs_background": "light"
     },
     "output_type": "display_data"
    }
   ],
   "source": [
    "real_data[\"PRICE\"][real_data[\"PRICE\"] < 1.5][real_data[\"PRICE\"] > 0].hist(bins=100)"
   ]
  },
  {
   "cell_type": "code",
   "execution_count": 22,
   "metadata": {},
   "outputs": [
    {
     "data": {
      "text/html": [
       "<div>\n",
       "<style scoped>\n",
       "    .dataframe tbody tr th:only-of-type {\n",
       "        vertical-align: middle;\n",
       "    }\n",
       "\n",
       "    .dataframe tbody tr th {\n",
       "        vertical-align: top;\n",
       "    }\n",
       "\n",
       "    .dataframe thead th {\n",
       "        text-align: right;\n",
       "    }\n",
       "</style>\n",
       "<table border=\"1\" class=\"dataframe\">\n",
       "  <thead>\n",
       "    <tr style=\"text-align: right;\">\n",
       "      <th></th>\n",
       "      <th>PRICE</th>\n",
       "      <th>ROUNDED_NOTIONAL_AMOUNT</th>\n",
       "      <th>CLEARED</th>\n",
       "      <th>ACTION</th>\n",
       "      <th>TAXONOMY</th>\n",
       "      <th>PRICE_FORMING_CONTINUATION_DATA</th>\n",
       "      <th>INDICATION_OF_COLLATERALIZATION</th>\n",
       "    </tr>\n",
       "  </thead>\n",
       "  <tbody>\n",
       "    <tr>\n",
       "      <th>13489</th>\n",
       "      <td>10618.00</td>\n",
       "      <td>10.0</td>\n",
       "      <td>C</td>\n",
       "      <td>NEW</td>\n",
       "      <td>CDXHY</td>\n",
       "      <td>Trade</td>\n",
       "      <td>PC</td>\n",
       "    </tr>\n",
       "    <tr>\n",
       "      <th>32788</th>\n",
       "      <td>10706.25</td>\n",
       "      <td>25.0</td>\n",
       "      <td>C</td>\n",
       "      <td>CANCEL</td>\n",
       "      <td>CDXHY</td>\n",
       "      <td>Trade</td>\n",
       "      <td>PC</td>\n",
       "    </tr>\n",
       "    <tr>\n",
       "      <th>32789</th>\n",
       "      <td>10706.25</td>\n",
       "      <td>25.0</td>\n",
       "      <td>C</td>\n",
       "      <td>NEW</td>\n",
       "      <td>CDXHY</td>\n",
       "      <td>Trade</td>\n",
       "      <td>PC</td>\n",
       "    </tr>\n",
       "  </tbody>\n",
       "</table>\n",
       "</div>"
      ],
      "text/plain": [
       "          PRICE  ROUNDED_NOTIONAL_AMOUNT CLEARED  ACTION TAXONOMY  \\\n",
       "13489  10618.00                     10.0       C     NEW    CDXHY   \n",
       "32788  10706.25                     25.0       C  CANCEL    CDXHY   \n",
       "32789  10706.25                     25.0       C     NEW    CDXHY   \n",
       "\n",
       "      PRICE_FORMING_CONTINUATION_DATA INDICATION_OF_COLLATERALIZATION  \n",
       "13489                           Trade                              PC  \n",
       "32788                           Trade                              PC  \n",
       "32789                           Trade                              PC  "
      ]
     },
     "execution_count": 22,
     "metadata": {},
     "output_type": "execute_result"
    }
   ],
   "source": [
    "real_data[real_data[\"PRICE\"] > 1000]"
   ]
  },
  {
   "cell_type": "code",
   "execution_count": 23,
   "metadata": {},
   "outputs": [
    {
     "data": {
      "text/plain": [
       "0.8841771471568312"
      ]
     },
     "execution_count": 23,
     "metadata": {},
     "output_type": "execute_result"
    }
   ],
   "source": [
    "len(real_data[\"PRICE\"][real_data[\"PRICE\"] < 1.5][real_data[\"PRICE\"] > 0]) / len(real_data[\"PRICE\"])"
   ]
  },
  {
   "cell_type": "code",
   "execution_count": 24,
   "metadata": {},
   "outputs": [
    {
     "data": {
      "text/plain": [
       "<matplotlib.axes._subplots.AxesSubplot at 0x7f5198a18780>"
      ]
     },
     "execution_count": 24,
     "metadata": {},
     "output_type": "execute_result"
    },
    {
     "data": {
      "image/png": "[encoded data removed]",
      "text/plain": [
       "<Figure size 432x288 with 1 Axes>"
      ]
     },
     "metadata": {
      "needs_background": "light"
     },
     "output_type": "display_data"
    }
   ],
   "source": [
    "generated_data[\"ROUNDED_NOTIONAL_AMOUNT\"].hist()"
   ]
  },
  {
   "cell_type": "code",
   "execution_count": 25,
   "metadata": {},
   "outputs": [
    {
     "data": {
      "text/plain": [
       "<matplotlib.axes._subplots.AxesSubplot at 0x7f5198985588>"
      ]
     },
     "execution_count": 25,
     "metadata": {},
     "output_type": "execute_result"
    },
    {
     "data": {
      "image/png": "[encoded data removed]",
      "text/plain": [
       "<Figure size 432x288 with 1 Axes>"
      ]
     },
     "metadata": {
      "needs_background": "light"
     },
     "output_type": "display_data"
    }
   ],
   "source": [
    "real_data[\"ROUNDED_NOTIONAL_AMOUNT\"].hist(bins=100)"
   ]
  },
  {
   "cell_type": "code",
   "execution_count": 26,
   "metadata": {},
   "outputs": [
    {
     "data": {
      "text/plain": [
       "<matplotlib.axes._subplots.AxesSubplot at 0x7f5198803a58>"
      ]
     },
     "execution_count": 26,
     "metadata": {},
     "output_type": "execute_result"
    },
    {
     "data": {
      "image/png": "[encoded data removed]",
      "text/plain": [
       "<Figure size 432x288 with 1 Axes>"
      ]
     },
     "metadata": {
      "needs_background": "light"
     },
     "output_type": "display_data"
    }
   ],
   "source": [
    "real_data[real_data[\"ROUNDED_NOTIONAL_AMOUNT\"] < 50][\"ROUNDED_NOTIONAL_AMOUNT\"].hist(bins=50)"
   ]
  },
  {
   "cell_type": "code",
   "execution_count": 27,
   "metadata": {},
   "outputs": [],
   "source": [
    "import matplotlib.pyplot as plt\n",
    "\n",
    "def plot_pie(column, data, title):\n",
    "    data[[\"PRICE\", column]].groupby(column).count().plot(kind=\"pie\", subplots=True)\n",
    "    plt.axis('equal')\n",
    "    plt.ylabel(column)\n",
    "    plt.title(title)\n",
    "    plt.show()"
   ]
  },
  {
   "cell_type": "code",
   "execution_count": 28,
   "metadata": {},
   "outputs": [
    {
     "data": {
      "image/png": "[encoded data removed]",
      "text/plain": [
       "<Figure size 432x288 with 1 Axes>"
      ]
     },
     "metadata": {},
     "output_type": "display_data"
    },
    {
     "data": {
      "image/png": "[encoded data removed]",
      "text/plain": [
       "<Figure size 432x288 with 1 Axes>"
      ]
     },
     "metadata": {},
     "output_type": "display_data"
    },
    {
     "data": {
      "image/png": "[encoded data removed]",
      "text/plain": [
       "<Figure size 432x288 with 1 Axes>"
      ]
     },
     "metadata": {},
     "output_type": "display_data"
    },
    {
     "data": {
      "image/png": "[encoded data removed]",
      "text/plain": [
       "<Figure size 432x288 with 1 Axes>"
      ]
     },
     "metadata": {},
     "output_type": "display_data"
    },
    {
     "data": {
      "image/png": "[encoded data removed]",
      "text/plain": [
       "<Figure size 432x288 with 1 Axes>"
      ]
     },
     "metadata": {},
     "output_type": "display_data"
    },
    {
     "data": {
      "image/png": "[encoded data removed]",
      "text/plain": [
       "<Figure size 432x288 with 1 Axes>"
      ]
     },
     "metadata": {},
     "output_type": "display_data"
    },
    {
     "data": {
      "image/png": "[encoded data removed]",
      "text/plain": [
       "<Figure size 432x288 with 1 Axes>"
      ]
     },
     "metadata": {},
     "output_type": "display_data"
    },
    {
     "data": {
      "image/png": "[encoded data removed]",
      "text/plain": [
       "<Figure size 432x288 with 1 Axes>"
      ]
     },
     "metadata": {},
     "output_type": "display_data"
    },
    {
     "data": {
      "image/png": "[encoded data removed]",
      "text/plain": [
       "<Figure size 432x288 with 1 Axes>"
      ]
     },
     "metadata": {},
     "output_type": "display_data"
    },
    {
     "data": {
      "image/png": "[encoded data removed]",
      "text/plain": [
       "<Figure size 432x288 with 1 Axes>"
      ]
     },
     "metadata": {},
     "output_type": "display_data"
    }
   ],
   "source": [
    "for column in generated_data.columns[3:]:\n",
    "    plot_pie(column, generated_data, \"Generated\")\n",
    "    plot_pie(column, real_data, \"Real\")"
   ]
  },
  {
   "cell_type": "markdown",
   "metadata": {},
   "source": [
    "# Plot training curves"
   ]
  },
  {
   "cell_type": "code",
   "execution_count": 10,
   "metadata": {},
   "outputs": [
    {
     "data": {
      "image/png": "[encoded data removed]",
      "text/plain": [
       "<Figure size 432x288 with 1 Axes>"
      ]
     },
     "metadata": {
      "needs_background": "light"
     },
     "output_type": "display_data"
    },
    {
     "name": "stdout",
     "output_type": "stream",
     "text": [
      "Categorical loss mean: 0.0003348593\n",
      "Continuous loss mean: 0.28779346\n"
     ]
    },
    {
     "data": {
      "image/png": "[encoded data removed]",
      "text/plain": [
       "<Figure size 432x288 with 1 Axes>"
      ]
     },
     "metadata": {
      "needs_background": "light"
     },
     "output_type": "display_data"
    },
    {
     "data": {
      "image/png": "[encoded data removed]",
      "text/plain": [
       "<Figure size 432x288 with 1 Axes>"
      ]
     },
     "metadata": {
      "needs_background": "light"
     },
     "output_type": "display_data"
    }
   ],
   "source": [
    "import matplotlib.pyplot as plt\n",
    "from history import History\n",
    "import numpy as np\n",
    "\n",
    "HISTORY_FILE = \"./save/history.pkl\"\n",
    "\n",
    "history = History.load(HISTORY_FILE)\n",
    "\n",
    "plt.plot(history.pre_training_loss, label=\"Pretraining\")\n",
    "plt.legend()\n",
    "plt.show()\n",
    "\n",
    "# plt.plot(history.generator_loss, label=\"Generator\")\n",
    "categorical_loss = np.array(history.generator_categorical_loss)\n",
    "print(\"Categorical loss mean:\", categorical_loss.mean())\n",
    "plt.plot(categorical_loss / categorical_loss.mean(), label=\"Categorical\")\n",
    "continuous_loss = np.array(history.generator_continuous_loss)\n",
    "print(\"Continuous loss mean:\", continuous_loss.mean())\n",
    "plt.plot(continuous_loss / continuous_loss.mean(), label=\"Continuous\")\n",
    "plt.legend()\n",
    "plt.show()\n",
    "\n",
    "plt.plot(history.discriminator_loss, label=\"Discriminator\")\n",
    "plt.legend()\n",
    "plt.show()"
   ]
  }
 ],
 "metadata": {
  "kernelspec": {
   "display_name": "fintech",
   "language": "python",
   "name": "fintech"
  },
  "language_info": {
   "codemirror_mode": {
    "name": "ipython",
    "version": 3
   },
   "file_extension": ".py",
   "mimetype": "text/x-python",
   "name": "python",
   "nbconvert_exporter": "python",
   "pygments_lexer": "ipython3",
   "version": "3.7.2"
  }
 },
 "nbformat": 4,
 "nbformat_minor": 2
}
