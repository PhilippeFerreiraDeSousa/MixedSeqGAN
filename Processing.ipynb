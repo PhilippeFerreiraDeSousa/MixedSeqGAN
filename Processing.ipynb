{
 "cells": [
  {
   "cell_type": "code",
   "execution_count": 1,
   "metadata": {},
   "outputs": [],
   "source": [
    "import pandas as pd\n",
    "\n",
    "df = pd.read_csv(\"./CDS_Preprocessed_Data.csv\")"
   ]
  },
  {
   "cell_type": "code",
   "execution_count": 2,
   "metadata": {},
   "outputs": [
    {
     "data": {
      "text/plain": [
       "Index(['PRICE', 'ROUNDED_NOTIONAL_AMOUNT_1', 'ACTION_CANCEL', 'ACTION_CORRECT',\n",
       "       'ACTION_NEW', 'TAXONOMY_Credit:Index:CDX:CDXHY',\n",
       "       'TAXONOMY_Credit:Index:CDX:CDXIG',\n",
       "       'PRICE_FORMING_CONTINUATION_DATA_Amendment',\n",
       "       'PRICE_FORMING_CONTINUATION_DATA_Novation',\n",
       "       'PRICE_FORMING_CONTINUATION_DATA_Partialtermination',\n",
       "       'PRICE_FORMING_CONTINUATION_DATA_Trade', 'CLEARED_C', 'CLEARED_U',\n",
       "       'INDICATION_OF_COLLATERALIZATION_FC',\n",
       "       'INDICATION_OF_COLLATERALIZATION_OC',\n",
       "       'INDICATION_OF_COLLATERALIZATION_PC',\n",
       "       'INDICATION_OF_COLLATERALIZATION_UC'],\n",
       "      dtype='object')"
      ]
     },
     "execution_count": 2,
     "metadata": {},
     "output_type": "execute_result"
    }
   ],
   "source": [
    "df = df.drop(columns=['Unnamed: 0'], axis='column')\n",
    "df.columns"
   ]
  },
  {
   "cell_type": "code",
   "execution_count": 3,
   "metadata": {},
   "outputs": [],
   "source": [
    "df.to_hdf(\"./CDS_Preprocessed_Data_dummies.h5.gz\", key=\"CDS\", complib=\"zlib\", complevel=9, mode='w')"
   ]
  },
  {
   "cell_type": "code",
   "execution_count": 4,
   "metadata": {},
   "outputs": [
    {
     "data": {
      "text/html": [
       "<div>\n",
       "<style scoped>\n",
       "    .dataframe tbody tr th:only-of-type {\n",
       "        vertical-align: middle;\n",
       "    }\n",
       "\n",
       "    .dataframe tbody tr th {\n",
       "        vertical-align: top;\n",
       "    }\n",
       "\n",
       "    .dataframe thead th {\n",
       "        text-align: right;\n",
       "    }\n",
       "</style>\n",
       "<table border=\"1\" class=\"dataframe\">\n",
       "  <thead>\n",
       "    <tr style=\"text-align: right;\">\n",
       "      <th></th>\n",
       "      <th>PRICE</th>\n",
       "      <th>ROUNDED_NOTIONAL_AMOUNT_1</th>\n",
       "      <th>ACTION_CANCEL</th>\n",
       "      <th>ACTION_CORRECT</th>\n",
       "      <th>ACTION_NEW</th>\n",
       "      <th>TAXONOMY_Credit:Index:CDX:CDXHY</th>\n",
       "      <th>TAXONOMY_Credit:Index:CDX:CDXIG</th>\n",
       "      <th>PRICE_FORMING_CONTINUATION_DATA_Amendment</th>\n",
       "      <th>PRICE_FORMING_CONTINUATION_DATA_Novation</th>\n",
       "      <th>PRICE_FORMING_CONTINUATION_DATA_Partialtermination</th>\n",
       "      <th>PRICE_FORMING_CONTINUATION_DATA_Trade</th>\n",
       "      <th>CLEARED_C</th>\n",
       "      <th>CLEARED_U</th>\n",
       "      <th>INDICATION_OF_COLLATERALIZATION_FC</th>\n",
       "      <th>INDICATION_OF_COLLATERALIZATION_OC</th>\n",
       "      <th>INDICATION_OF_COLLATERALIZATION_PC</th>\n",
       "      <th>INDICATION_OF_COLLATERALIZATION_UC</th>\n",
       "    </tr>\n",
       "  </thead>\n",
       "  <tbody>\n",
       "    <tr>\n",
       "      <th>0</th>\n",
       "      <td>0.668500</td>\n",
       "      <td>25.0</td>\n",
       "      <td>0</td>\n",
       "      <td>0</td>\n",
       "      <td>1</td>\n",
       "      <td>0</td>\n",
       "      <td>1</td>\n",
       "      <td>0</td>\n",
       "      <td>0</td>\n",
       "      <td>0</td>\n",
       "      <td>1</td>\n",
       "      <td>1</td>\n",
       "      <td>0</td>\n",
       "      <td>0</td>\n",
       "      <td>0</td>\n",
       "      <td>1</td>\n",
       "      <td>0</td>\n",
       "    </tr>\n",
       "    <tr>\n",
       "      <th>1</th>\n",
       "      <td>0.668500</td>\n",
       "      <td>50.0</td>\n",
       "      <td>0</td>\n",
       "      <td>0</td>\n",
       "      <td>1</td>\n",
       "      <td>0</td>\n",
       "      <td>1</td>\n",
       "      <td>0</td>\n",
       "      <td>0</td>\n",
       "      <td>0</td>\n",
       "      <td>1</td>\n",
       "      <td>1</td>\n",
       "      <td>0</td>\n",
       "      <td>0</td>\n",
       "      <td>0</td>\n",
       "      <td>1</td>\n",
       "      <td>0</td>\n",
       "    </tr>\n",
       "    <tr>\n",
       "      <th>2</th>\n",
       "      <td>0.476875</td>\n",
       "      <td>150.0</td>\n",
       "      <td>0</td>\n",
       "      <td>0</td>\n",
       "      <td>1</td>\n",
       "      <td>0</td>\n",
       "      <td>1</td>\n",
       "      <td>0</td>\n",
       "      <td>0</td>\n",
       "      <td>0</td>\n",
       "      <td>1</td>\n",
       "      <td>1</td>\n",
       "      <td>0</td>\n",
       "      <td>0</td>\n",
       "      <td>0</td>\n",
       "      <td>1</td>\n",
       "      <td>0</td>\n",
       "    </tr>\n",
       "    <tr>\n",
       "      <th>3</th>\n",
       "      <td>0.478750</td>\n",
       "      <td>85.0</td>\n",
       "      <td>0</td>\n",
       "      <td>0</td>\n",
       "      <td>1</td>\n",
       "      <td>0</td>\n",
       "      <td>1</td>\n",
       "      <td>0</td>\n",
       "      <td>0</td>\n",
       "      <td>0</td>\n",
       "      <td>1</td>\n",
       "      <td>1</td>\n",
       "      <td>0</td>\n",
       "      <td>0</td>\n",
       "      <td>0</td>\n",
       "      <td>1</td>\n",
       "      <td>0</td>\n",
       "    </tr>\n",
       "    <tr>\n",
       "      <th>4</th>\n",
       "      <td>0.680000</td>\n",
       "      <td>62.0</td>\n",
       "      <td>0</td>\n",
       "      <td>0</td>\n",
       "      <td>1</td>\n",
       "      <td>0</td>\n",
       "      <td>1</td>\n",
       "      <td>0</td>\n",
       "      <td>0</td>\n",
       "      <td>0</td>\n",
       "      <td>1</td>\n",
       "      <td>1</td>\n",
       "      <td>0</td>\n",
       "      <td>0</td>\n",
       "      <td>0</td>\n",
       "      <td>1</td>\n",
       "      <td>0</td>\n",
       "    </tr>\n",
       "  </tbody>\n",
       "</table>\n",
       "</div>"
      ],
      "text/plain": [
       "      PRICE  ROUNDED_NOTIONAL_AMOUNT_1  ACTION_CANCEL  ACTION_CORRECT  \\\n",
       "0  0.668500                       25.0              0               0   \n",
       "1  0.668500                       50.0              0               0   \n",
       "2  0.476875                      150.0              0               0   \n",
       "3  0.478750                       85.0              0               0   \n",
       "4  0.680000                       62.0              0               0   \n",
       "\n",
       "   ACTION_NEW  TAXONOMY_Credit:Index:CDX:CDXHY  \\\n",
       "0           1                                0   \n",
       "1           1                                0   \n",
       "2           1                                0   \n",
       "3           1                                0   \n",
       "4           1                                0   \n",
       "\n",
       "   TAXONOMY_Credit:Index:CDX:CDXIG  PRICE_FORMING_CONTINUATION_DATA_Amendment  \\\n",
       "0                                1                                          0   \n",
       "1                                1                                          0   \n",
       "2                                1                                          0   \n",
       "3                                1                                          0   \n",
       "4                                1                                          0   \n",
       "\n",
       "   PRICE_FORMING_CONTINUATION_DATA_Novation  \\\n",
       "0                                         0   \n",
       "1                                         0   \n",
       "2                                         0   \n",
       "3                                         0   \n",
       "4                                         0   \n",
       "\n",
       "   PRICE_FORMING_CONTINUATION_DATA_Partialtermination  \\\n",
       "0                                                  0    \n",
       "1                                                  0    \n",
       "2                                                  0    \n",
       "3                                                  0    \n",
       "4                                                  0    \n",
       "\n",
       "   PRICE_FORMING_CONTINUATION_DATA_Trade  CLEARED_C  CLEARED_U  \\\n",
       "0                                      1          1          0   \n",
       "1                                      1          1          0   \n",
       "2                                      1          1          0   \n",
       "3                                      1          1          0   \n",
       "4                                      1          1          0   \n",
       "\n",
       "   INDICATION_OF_COLLATERALIZATION_FC  INDICATION_OF_COLLATERALIZATION_OC  \\\n",
       "0                                   0                                   0   \n",
       "1                                   0                                   0   \n",
       "2                                   0                                   0   \n",
       "3                                   0                                   0   \n",
       "4                                   0                                   0   \n",
       "\n",
       "   INDICATION_OF_COLLATERALIZATION_PC  INDICATION_OF_COLLATERALIZATION_UC  \n",
       "0                                   1                                   0  \n",
       "1                                   1                                   0  \n",
       "2                                   1                                   0  \n",
       "3                                   1                                   0  \n",
       "4                                   1                                   0  "
      ]
     },
     "execution_count": 4,
     "metadata": {},
     "output_type": "execute_result"
    }
   ],
   "source": [
    "df.head()"
   ]
  },
  {
   "cell_type": "code",
   "execution_count": 5,
   "metadata": {},
   "outputs": [
    {
     "data": {
      "text/plain": [
       "PRICE                                                 float64\n",
       "ROUNDED_NOTIONAL_AMOUNT_1                             float64\n",
       "ACTION_CANCEL                                           int64\n",
       "ACTION_CORRECT                                          int64\n",
       "ACTION_NEW                                              int64\n",
       "TAXONOMY_Credit:Index:CDX:CDXHY                         int64\n",
       "TAXONOMY_Credit:Index:CDX:CDXIG                         int64\n",
       "PRICE_FORMING_CONTINUATION_DATA_Amendment               int64\n",
       "PRICE_FORMING_CONTINUATION_DATA_Novation                int64\n",
       "PRICE_FORMING_CONTINUATION_DATA_Partialtermination      int64\n",
       "PRICE_FORMING_CONTINUATION_DATA_Trade                   int64\n",
       "CLEARED_C                                               int64\n",
       "CLEARED_U                                               int64\n",
       "INDICATION_OF_COLLATERALIZATION_FC                      int64\n",
       "INDICATION_OF_COLLATERALIZATION_OC                      int64\n",
       "INDICATION_OF_COLLATERALIZATION_PC                      int64\n",
       "INDICATION_OF_COLLATERALIZATION_UC                      int64\n",
       "dtype: object"
      ]
     },
     "execution_count": 5,
     "metadata": {},
     "output_type": "execute_result"
    }
   ],
   "source": [
    "df.dtypes"
   ]
  },
  {
   "cell_type": "code",
   "execution_count": 6,
   "metadata": {},
   "outputs": [
    {
     "data": {
      "text/html": [
       "<div>\n",
       "<style scoped>\n",
       "    .dataframe tbody tr th:only-of-type {\n",
       "        vertical-align: middle;\n",
       "    }\n",
       "\n",
       "    .dataframe tbody tr th {\n",
       "        vertical-align: top;\n",
       "    }\n",
       "\n",
       "    .dataframe thead th {\n",
       "        text-align: right;\n",
       "    }\n",
       "</style>\n",
       "<table border=\"1\" class=\"dataframe\">\n",
       "  <thead>\n",
       "    <tr style=\"text-align: right;\">\n",
       "      <th></th>\n",
       "      <th>PRICE</th>\n",
       "      <th>ROUNDED_NOTIONAL_AMOUNT</th>\n",
       "    </tr>\n",
       "  </thead>\n",
       "  <tbody>\n",
       "    <tr>\n",
       "      <th>0</th>\n",
       "      <td>0.668500</td>\n",
       "      <td>25.0</td>\n",
       "    </tr>\n",
       "    <tr>\n",
       "      <th>1</th>\n",
       "      <td>0.668500</td>\n",
       "      <td>50.0</td>\n",
       "    </tr>\n",
       "    <tr>\n",
       "      <th>2</th>\n",
       "      <td>0.476875</td>\n",
       "      <td>150.0</td>\n",
       "    </tr>\n",
       "    <tr>\n",
       "      <th>3</th>\n",
       "      <td>0.478750</td>\n",
       "      <td>85.0</td>\n",
       "    </tr>\n",
       "    <tr>\n",
       "      <th>4</th>\n",
       "      <td>0.680000</td>\n",
       "      <td>62.0</td>\n",
       "    </tr>\n",
       "  </tbody>\n",
       "</table>\n",
       "</div>"
      ],
      "text/plain": [
       "      PRICE  ROUNDED_NOTIONAL_AMOUNT\n",
       "0  0.668500                     25.0\n",
       "1  0.668500                     50.0\n",
       "2  0.476875                    150.0\n",
       "3  0.478750                     85.0\n",
       "4  0.680000                     62.0"
      ]
     },
     "execution_count": 6,
     "metadata": {},
     "output_type": "execute_result"
    }
   ],
   "source": [
    "df_not_dummy = pd.DataFrame()\n",
    "df_not_dummy['PRICE'] = df['PRICE']\n",
    "df_not_dummy['ROUNDED_NOTIONAL_AMOUNT'] = df['ROUNDED_NOTIONAL_AMOUNT_1']\n",
    "df_not_dummy.head()"
   ]
  },
  {
   "cell_type": "code",
   "execution_count": 7,
   "metadata": {},
   "outputs": [
    {
     "name": "stderr",
     "output_type": "stream",
     "text": [
      "/home/philippe/.virtualenvs/fintech/lib/python3.7/site-packages/ipykernel_launcher.py:2: SettingWithCopyWarning: \n",
      "A value is trying to be set on a copy of a slice from a DataFrame\n",
      "\n",
      "See the caveats in the documentation: https://pandas.pydata.org/pandas-docs/stable/user_guide/indexing.html#returning-a-view-versus-a-copy\n",
      "  \n"
     ]
    },
    {
     "data": {
      "text/plain": [
       "<matplotlib.axes._subplots.AxesSubplot at 0x7fa4371c0128>"
      ]
     },
     "execution_count": 7,
     "metadata": {},
     "output_type": "execute_result"
    },
    {
     "data": {
      "image/png": "[encoded data removed]",
      "text/plain": [
       "<Figure size 432x288 with 1 Axes>"
      ]
     },
     "metadata": {
      "needs_background": "light"
     },
     "output_type": "display_data"
    }
   ],
   "source": [
    "df_not_dummy['CLEARED'] = 'C'\n",
    "df_not_dummy['CLEARED'][df['CLEARED_U'] == 1] = 'U'\n",
    "df_not_dummy['CLEARED'].hist()"
   ]
  },
  {
   "cell_type": "code",
   "execution_count": 8,
   "metadata": {},
   "outputs": [
    {
     "name": "stderr",
     "output_type": "stream",
     "text": [
      "/home/philippe/.virtualenvs/fintech/lib/python3.7/site-packages/ipykernel_launcher.py:2: SettingWithCopyWarning: \n",
      "A value is trying to be set on a copy of a slice from a DataFrame\n",
      "\n",
      "See the caveats in the documentation: https://pandas.pydata.org/pandas-docs/stable/user_guide/indexing.html#returning-a-view-versus-a-copy\n",
      "  \n",
      "/home/philippe/.virtualenvs/fintech/lib/python3.7/site-packages/ipykernel_launcher.py:3: SettingWithCopyWarning: \n",
      "A value is trying to be set on a copy of a slice from a DataFrame\n",
      "\n",
      "See the caveats in the documentation: https://pandas.pydata.org/pandas-docs/stable/user_guide/indexing.html#returning-a-view-versus-a-copy\n",
      "  This is separate from the ipykernel package so we can avoid doing imports until\n"
     ]
    },
    {
     "data": {
      "text/plain": [
       "<matplotlib.axes._subplots.AxesSubplot at 0x7fa435177ac8>"
      ]
     },
     "execution_count": 8,
     "metadata": {},
     "output_type": "execute_result"
    },
    {
     "data": {
      "image/png": "[encoded data removed]",
      "text/plain": [
       "<Figure size 432x288 with 1 Axes>"
      ]
     },
     "metadata": {
      "needs_background": "light"
     },
     "output_type": "display_data"
    }
   ],
   "source": [
    "df_not_dummy['ACTION'] = 'CANCEL'\n",
    "df_not_dummy['ACTION'][df['ACTION_CORRECT'] == 1] = 'CORRECT'\n",
    "df_not_dummy['ACTION'][df['ACTION_NEW'] == 1] = 'NEW'\n",
    "df_not_dummy['ACTION'].hist()"
   ]
  },
  {
   "cell_type": "code",
   "execution_count": 9,
   "metadata": {},
   "outputs": [
    {
     "name": "stderr",
     "output_type": "stream",
     "text": [
      "/home/philippe/.virtualenvs/fintech/lib/python3.7/site-packages/ipykernel_launcher.py:2: SettingWithCopyWarning: \n",
      "A value is trying to be set on a copy of a slice from a DataFrame\n",
      "\n",
      "See the caveats in the documentation: https://pandas.pydata.org/pandas-docs/stable/user_guide/indexing.html#returning-a-view-versus-a-copy\n",
      "  \n"
     ]
    },
    {
     "data": {
      "text/plain": [
       "<matplotlib.axes._subplots.AxesSubplot at 0x7fa434c46390>"
      ]
     },
     "execution_count": 9,
     "metadata": {},
     "output_type": "execute_result"
    },
    {
     "data": {
      "image/png": "[encoded data removed]",
      "text/plain": [
       "<Figure size 432x288 with 1 Axes>"
      ]
     },
     "metadata": {
      "needs_background": "light"
     },
     "output_type": "display_data"
    }
   ],
   "source": [
    "df_not_dummy['TAXONOMY'] = 'CDXHY'\n",
    "df_not_dummy['TAXONOMY'][df['TAXONOMY_Credit:Index:CDX:CDXIG'] == 1] = 'CDXIG'\n",
    "df_not_dummy['TAXONOMY'].hist()"
   ]
  },
  {
   "cell_type": "code",
   "execution_count": 10,
   "metadata": {},
   "outputs": [
    {
     "name": "stderr",
     "output_type": "stream",
     "text": [
      "/home/philippe/.virtualenvs/fintech/lib/python3.7/site-packages/ipykernel_launcher.py:2: SettingWithCopyWarning: \n",
      "A value is trying to be set on a copy of a slice from a DataFrame\n",
      "\n",
      "See the caveats in the documentation: https://pandas.pydata.org/pandas-docs/stable/user_guide/indexing.html#returning-a-view-versus-a-copy\n",
      "  \n",
      "/home/philippe/.virtualenvs/fintech/lib/python3.7/site-packages/ipykernel_launcher.py:3: SettingWithCopyWarning: \n",
      "A value is trying to be set on a copy of a slice from a DataFrame\n",
      "\n",
      "See the caveats in the documentation: https://pandas.pydata.org/pandas-docs/stable/user_guide/indexing.html#returning-a-view-versus-a-copy\n",
      "  This is separate from the ipykernel package so we can avoid doing imports until\n",
      "/home/philippe/.virtualenvs/fintech/lib/python3.7/site-packages/ipykernel_launcher.py:4: SettingWithCopyWarning: \n",
      "A value is trying to be set on a copy of a slice from a DataFrame\n",
      "\n",
      "See the caveats in the documentation: https://pandas.pydata.org/pandas-docs/stable/user_guide/indexing.html#returning-a-view-versus-a-copy\n",
      "  after removing the cwd from sys.path.\n"
     ]
    },
    {
     "data": {
      "text/plain": [
       "<matplotlib.axes._subplots.AxesSubplot at 0x7fa434bb75c0>"
      ]
     },
     "execution_count": 10,
     "metadata": {},
     "output_type": "execute_result"
    },
    {
     "data": {
      "image/png": "[encoded data removed]",
      "text/plain": [
       "<Figure size 432x288 with 1 Axes>"
      ]
     },
     "metadata": {
      "needs_background": "light"
     },
     "output_type": "display_data"
    }
   ],
   "source": [
    "df_not_dummy['PRICE_FORMING_CONTINUATION_DATA'] = 'Novation'\n",
    "df_not_dummy['PRICE_FORMING_CONTINUATION_DATA'][df['PRICE_FORMING_CONTINUATION_DATA_Amendment'] == 1] = 'Amendment'\n",
    "df_not_dummy['PRICE_FORMING_CONTINUATION_DATA'][df['PRICE_FORMING_CONTINUATION_DATA_Partialtermination'] == 1] = 'Partialtermination'\n",
    "df_not_dummy['PRICE_FORMING_CONTINUATION_DATA'][df['PRICE_FORMING_CONTINUATION_DATA_Trade'] == 1] = 'Trade'\n",
    "df_not_dummy['PRICE_FORMING_CONTINUATION_DATA'].hist()"
   ]
  },
  {
   "cell_type": "code",
   "execution_count": 11,
   "metadata": {},
   "outputs": [
    {
     "name": "stderr",
     "output_type": "stream",
     "text": [
      "/home/philippe/.virtualenvs/fintech/lib/python3.7/site-packages/ipykernel_launcher.py:2: SettingWithCopyWarning: \n",
      "A value is trying to be set on a copy of a slice from a DataFrame\n",
      "\n",
      "See the caveats in the documentation: https://pandas.pydata.org/pandas-docs/stable/user_guide/indexing.html#returning-a-view-versus-a-copy\n",
      "  \n",
      "/home/philippe/.virtualenvs/fintech/lib/python3.7/site-packages/ipykernel_launcher.py:3: SettingWithCopyWarning: \n",
      "A value is trying to be set on a copy of a slice from a DataFrame\n",
      "\n",
      "See the caveats in the documentation: https://pandas.pydata.org/pandas-docs/stable/user_guide/indexing.html#returning-a-view-versus-a-copy\n",
      "  This is separate from the ipykernel package so we can avoid doing imports until\n",
      "/home/philippe/.virtualenvs/fintech/lib/python3.7/site-packages/ipykernel_launcher.py:4: SettingWithCopyWarning: \n",
      "A value is trying to be set on a copy of a slice from a DataFrame\n",
      "\n",
      "See the caveats in the documentation: https://pandas.pydata.org/pandas-docs/stable/user_guide/indexing.html#returning-a-view-versus-a-copy\n",
      "  after removing the cwd from sys.path.\n"
     ]
    },
    {
     "data": {
      "text/plain": [
       "<matplotlib.axes._subplots.AxesSubplot at 0x7fa434b405f8>"
      ]
     },
     "execution_count": 11,
     "metadata": {},
     "output_type": "execute_result"
    },
    {
     "data": {
      "image/png": "[encoded data removed]",
      "text/plain": [
       "<Figure size 432x288 with 1 Axes>"
      ]
     },
     "metadata": {
      "needs_background": "light"
     },
     "output_type": "display_data"
    }
   ],
   "source": [
    "df_not_dummy['INDICATION_OF_COLLATERALIZATION'] = 'FC'\n",
    "df_not_dummy['INDICATION_OF_COLLATERALIZATION'][df['INDICATION_OF_COLLATERALIZATION_OC'] == 1] = 'OC'\n",
    "df_not_dummy['INDICATION_OF_COLLATERALIZATION'][df['INDICATION_OF_COLLATERALIZATION_PC'] == 1] = 'PC'\n",
    "df_not_dummy['INDICATION_OF_COLLATERALIZATION'][df['INDICATION_OF_COLLATERALIZATION_UC'] == 1] = 'UC'\n",
    "df_not_dummy['INDICATION_OF_COLLATERALIZATION'].hist()"
   ]
  },
  {
   "cell_type": "code",
   "execution_count": 12,
   "metadata": {},
   "outputs": [],
   "source": [
    "df_not_dummy.to_hdf(\"./CDS_Preprocessed_Data.h5.gz\", key=\"CDS\", complib=\"zlib\", complevel=9, mode='w')"
   ]
  },
  {
   "cell_type": "code",
   "execution_count": 13,
   "metadata": {},
   "outputs": [
    {
     "data": {
      "text/html": [
       "<div>\n",
       "<style scoped>\n",
       "    .dataframe tbody tr th:only-of-type {\n",
       "        vertical-align: middle;\n",
       "    }\n",
       "\n",
       "    .dataframe tbody tr th {\n",
       "        vertical-align: top;\n",
       "    }\n",
       "\n",
       "    .dataframe thead th {\n",
       "        text-align: right;\n",
       "    }\n",
       "</style>\n",
       "<table border=\"1\" class=\"dataframe\">\n",
       "  <thead>\n",
       "    <tr style=\"text-align: right;\">\n",
       "      <th></th>\n",
       "      <th>PRICE</th>\n",
       "      <th>ROUNDED_NOTIONAL_AMOUNT</th>\n",
       "      <th>CLEARED</th>\n",
       "      <th>ACTION</th>\n",
       "      <th>TAXONOMY</th>\n",
       "      <th>PRICE_FORMING_CONTINUATION_DATA</th>\n",
       "      <th>INDICATION_OF_COLLATERALIZATION</th>\n",
       "    </tr>\n",
       "  </thead>\n",
       "  <tbody>\n",
       "    <tr>\n",
       "      <th>0</th>\n",
       "      <td>0.668500</td>\n",
       "      <td>25.0</td>\n",
       "      <td>C</td>\n",
       "      <td>NEW</td>\n",
       "      <td>CDXIG</td>\n",
       "      <td>Trade</td>\n",
       "      <td>PC</td>\n",
       "    </tr>\n",
       "    <tr>\n",
       "      <th>1</th>\n",
       "      <td>0.668500</td>\n",
       "      <td>50.0</td>\n",
       "      <td>C</td>\n",
       "      <td>NEW</td>\n",
       "      <td>CDXIG</td>\n",
       "      <td>Trade</td>\n",
       "      <td>PC</td>\n",
       "    </tr>\n",
       "    <tr>\n",
       "      <th>2</th>\n",
       "      <td>0.476875</td>\n",
       "      <td>150.0</td>\n",
       "      <td>C</td>\n",
       "      <td>NEW</td>\n",
       "      <td>CDXIG</td>\n",
       "      <td>Trade</td>\n",
       "      <td>PC</td>\n",
       "    </tr>\n",
       "    <tr>\n",
       "      <th>3</th>\n",
       "      <td>0.478750</td>\n",
       "      <td>85.0</td>\n",
       "      <td>C</td>\n",
       "      <td>NEW</td>\n",
       "      <td>CDXIG</td>\n",
       "      <td>Trade</td>\n",
       "      <td>PC</td>\n",
       "    </tr>\n",
       "    <tr>\n",
       "      <th>4</th>\n",
       "      <td>0.680000</td>\n",
       "      <td>62.0</td>\n",
       "      <td>C</td>\n",
       "      <td>NEW</td>\n",
       "      <td>CDXIG</td>\n",
       "      <td>Trade</td>\n",
       "      <td>PC</td>\n",
       "    </tr>\n",
       "  </tbody>\n",
       "</table>\n",
       "</div>"
      ],
      "text/plain": [
       "      PRICE  ROUNDED_NOTIONAL_AMOUNT CLEARED ACTION TAXONOMY  \\\n",
       "0  0.668500                     25.0       C    NEW    CDXIG   \n",
       "1  0.668500                     50.0       C    NEW    CDXIG   \n",
       "2  0.476875                    150.0       C    NEW    CDXIG   \n",
       "3  0.478750                     85.0       C    NEW    CDXIG   \n",
       "4  0.680000                     62.0       C    NEW    CDXIG   \n",
       "\n",
       "  PRICE_FORMING_CONTINUATION_DATA INDICATION_OF_COLLATERALIZATION  \n",
       "0                           Trade                              PC  \n",
       "1                           Trade                              PC  \n",
       "2                           Trade                              PC  \n",
       "3                           Trade                              PC  \n",
       "4                           Trade                              PC  "
      ]
     },
     "execution_count": 13,
     "metadata": {},
     "output_type": "execute_result"
    }
   ],
   "source": [
    "df_not_dummy.head()"
   ]
  },
  {
   "cell_type": "code",
   "execution_count": 14,
   "metadata": {},
   "outputs": [
    {
     "data": {
      "text/plain": [
       "37212"
      ]
     },
     "execution_count": 14,
     "metadata": {},
     "output_type": "execute_result"
    }
   ],
   "source": [
    "len(df_not_dummy)"
   ]
  },
  {
   "cell_type": "code",
   "execution_count": 15,
   "metadata": {},
   "outputs": [],
   "source": [
    "merged = pd.DataFrame()\n",
    "merged['PRICE'] = df_not_dummy['PRICE']\n",
    "merged['ROUNDED_NOTIONAL_AMOUNT'] = df_not_dummy['ROUNDED_NOTIONAL_AMOUNT']"
   ]
  },
  {
   "cell_type": "code",
   "execution_count": 16,
   "metadata": {},
   "outputs": [
    {
     "data": {
      "text/plain": [
       "PRICE                      float64\n",
       "ROUNDED_NOTIONAL_AMOUNT    float64\n",
       "category_csv                object\n",
       "dtype: object"
      ]
     },
     "execution_count": 16,
     "metadata": {},
     "output_type": "execute_result"
    }
   ],
   "source": [
    "merged['category_csv'] = \"\"\n",
    "merged.dtypes"
   ]
  },
  {
   "cell_type": "code",
   "execution_count": 17,
   "metadata": {},
   "outputs": [
    {
     "name": "stderr",
     "output_type": "stream",
     "text": [
      "/home/philippe/.virtualenvs/fintech/lib/python3.7/site-packages/ipykernel_launcher.py:2: SettingWithCopyWarning: \n",
      "A value is trying to be set on a copy of a slice from a DataFrame\n",
      "\n",
      "See the caveats in the documentation: https://pandas.pydata.org/pandas-docs/stable/user_guide/indexing.html#returning-a-view-versus-a-copy\n",
      "  \n"
     ]
    },
    {
     "data": {
      "text/html": [
       "<div>\n",
       "<style scoped>\n",
       "    .dataframe tbody tr th:only-of-type {\n",
       "        vertical-align: middle;\n",
       "    }\n",
       "\n",
       "    .dataframe tbody tr th {\n",
       "        vertical-align: top;\n",
       "    }\n",
       "\n",
       "    .dataframe thead th {\n",
       "        text-align: right;\n",
       "    }\n",
       "</style>\n",
       "<table border=\"1\" class=\"dataframe\">\n",
       "  <thead>\n",
       "    <tr style=\"text-align: right;\">\n",
       "      <th></th>\n",
       "      <th>PRICE</th>\n",
       "      <th>ROUNDED_NOTIONAL_AMOUNT</th>\n",
       "      <th>category_csv</th>\n",
       "    </tr>\n",
       "  </thead>\n",
       "  <tbody>\n",
       "    <tr>\n",
       "      <th>0</th>\n",
       "      <td>0.668500</td>\n",
       "      <td>25.0</td>\n",
       "      <td>C,NEW,CDXIG,Trade,PC</td>\n",
       "    </tr>\n",
       "    <tr>\n",
       "      <th>1</th>\n",
       "      <td>0.668500</td>\n",
       "      <td>50.0</td>\n",
       "      <td>C,NEW,CDXIG,Trade,PC</td>\n",
       "    </tr>\n",
       "    <tr>\n",
       "      <th>2</th>\n",
       "      <td>0.476875</td>\n",
       "      <td>150.0</td>\n",
       "      <td>C,NEW,CDXIG,Trade,PC</td>\n",
       "    </tr>\n",
       "    <tr>\n",
       "      <th>3</th>\n",
       "      <td>0.478750</td>\n",
       "      <td>85.0</td>\n",
       "      <td>C,NEW,CDXIG,Trade,PC</td>\n",
       "    </tr>\n",
       "    <tr>\n",
       "      <th>4</th>\n",
       "      <td>0.680000</td>\n",
       "      <td>62.0</td>\n",
       "      <td>C,NEW,CDXIG,Trade,PC</td>\n",
       "    </tr>\n",
       "  </tbody>\n",
       "</table>\n",
       "</div>"
      ],
      "text/plain": [
       "      PRICE  ROUNDED_NOTIONAL_AMOUNT          category_csv\n",
       "0  0.668500                     25.0  C,NEW,CDXIG,Trade,PC\n",
       "1  0.668500                     50.0  C,NEW,CDXIG,Trade,PC\n",
       "2  0.476875                    150.0  C,NEW,CDXIG,Trade,PC\n",
       "3  0.478750                     85.0  C,NEW,CDXIG,Trade,PC\n",
       "4  0.680000                     62.0  C,NEW,CDXIG,Trade,PC"
      ]
     },
     "execution_count": 17,
     "metadata": {},
     "output_type": "execute_result"
    }
   ],
   "source": [
    "for i in range(len(df)):\n",
    "    merged['category_csv'][i] = ','.join([df_not_dummy['CLEARED'][i], df_not_dummy['ACTION'][i], df_not_dummy['TAXONOMY'][i], df_not_dummy['PRICE_FORMING_CONTINUATION_DATA'][i], df_not_dummy['INDICATION_OF_COLLATERALIZATION'][i]])\n",
    "\n",
    "merged.head()"
   ]
  },
  {
   "cell_type": "code",
   "execution_count": 18,
   "metadata": {},
   "outputs": [
    {
     "data": {
      "text/plain": [
       "111"
      ]
     },
     "execution_count": 18,
     "metadata": {},
     "output_type": "execute_result"
    }
   ],
   "source": [
    "len(set(merged['category_csv'].values))"
   ]
  },
  {
   "cell_type": "code",
   "execution_count": 19,
   "metadata": {},
   "outputs": [],
   "source": [
    "category_to_index = {}\n",
    "index_to_category = {}\n",
    "\n",
    "category_to_index['<start>'] = 0\n",
    "index_to_category[0] = '<start>'\n",
    "\n",
    "for i, s in enumerate(set(merged['category_csv'].values)):\n",
    "    category_to_index[s] = i + 1\n",
    "    index_to_category[i + 1] = s"
   ]
  },
  {
   "cell_type": "code",
   "execution_count": 48,
   "metadata": {},
   "outputs": [],
   "source": [
    "import pickle\n",
    "\n",
    "with open(\"category_to_index.pkl\", \"wb\") as f:\n",
    "    pickle.dump(category_to_index, f)\n",
    "\n",
    "with open(\"index_to_category.pkl\", \"wb\") as f:\n",
    "    pickle.dump(index_to_category, f)"
   ]
  },
  {
   "cell_type": "code",
   "execution_count": 20,
   "metadata": {},
   "outputs": [
    {
     "name": "stderr",
     "output_type": "stream",
     "text": [
      "/home/philippe/.virtualenvs/fintech/lib/python3.7/site-packages/ipykernel_launcher.py:4: SettingWithCopyWarning: \n",
      "A value is trying to be set on a copy of a slice from a DataFrame\n",
      "\n",
      "See the caveats in the documentation: https://pandas.pydata.org/pandas-docs/stable/user_guide/indexing.html#returning-a-view-versus-a-copy\n",
      "  after removing the cwd from sys.path.\n"
     ]
    },
    {
     "data": {
      "text/html": [
       "<div>\n",
       "<style scoped>\n",
       "    .dataframe tbody tr th:only-of-type {\n",
       "        vertical-align: middle;\n",
       "    }\n",
       "\n",
       "    .dataframe tbody tr th {\n",
       "        vertical-align: top;\n",
       "    }\n",
       "\n",
       "    .dataframe thead th {\n",
       "        text-align: right;\n",
       "    }\n",
       "</style>\n",
       "<table border=\"1\" class=\"dataframe\">\n",
       "  <thead>\n",
       "    <tr style=\"text-align: right;\">\n",
       "      <th></th>\n",
       "      <th>PRICE</th>\n",
       "      <th>ROUNDED_NOTIONAL_AMOUNT</th>\n",
       "      <th>category_csv</th>\n",
       "      <th>category</th>\n",
       "    </tr>\n",
       "  </thead>\n",
       "  <tbody>\n",
       "    <tr>\n",
       "      <th>0</th>\n",
       "      <td>0.668500</td>\n",
       "      <td>25.0</td>\n",
       "      <td>C,NEW,CDXIG,Trade,PC</td>\n",
       "      <td>22</td>\n",
       "    </tr>\n",
       "    <tr>\n",
       "      <th>1</th>\n",
       "      <td>0.668500</td>\n",
       "      <td>50.0</td>\n",
       "      <td>C,NEW,CDXIG,Trade,PC</td>\n",
       "      <td>22</td>\n",
       "    </tr>\n",
       "    <tr>\n",
       "      <th>2</th>\n",
       "      <td>0.476875</td>\n",
       "      <td>150.0</td>\n",
       "      <td>C,NEW,CDXIG,Trade,PC</td>\n",
       "      <td>22</td>\n",
       "    </tr>\n",
       "    <tr>\n",
       "      <th>3</th>\n",
       "      <td>0.478750</td>\n",
       "      <td>85.0</td>\n",
       "      <td>C,NEW,CDXIG,Trade,PC</td>\n",
       "      <td>22</td>\n",
       "    </tr>\n",
       "    <tr>\n",
       "      <th>4</th>\n",
       "      <td>0.680000</td>\n",
       "      <td>62.0</td>\n",
       "      <td>C,NEW,CDXIG,Trade,PC</td>\n",
       "      <td>22</td>\n",
       "    </tr>\n",
       "  </tbody>\n",
       "</table>\n",
       "</div>"
      ],
      "text/plain": [
       "      PRICE  ROUNDED_NOTIONAL_AMOUNT          category_csv  category\n",
       "0  0.668500                     25.0  C,NEW,CDXIG,Trade,PC        22\n",
       "1  0.668500                     50.0  C,NEW,CDXIG,Trade,PC        22\n",
       "2  0.476875                    150.0  C,NEW,CDXIG,Trade,PC        22\n",
       "3  0.478750                     85.0  C,NEW,CDXIG,Trade,PC        22\n",
       "4  0.680000                     62.0  C,NEW,CDXIG,Trade,PC        22"
      ]
     },
     "execution_count": 20,
     "metadata": {},
     "output_type": "execute_result"
    }
   ],
   "source": [
    "merged['category'] = 0\n",
    "\n",
    "for i in range(len(merged)):\n",
    "    merged['category'][i] = category_to_index[merged['category_csv'][i]]\n",
    "\n",
    "merged.head()"
   ]
  },
  {
   "cell_type": "code",
   "execution_count": 21,
   "metadata": {},
   "outputs": [
    {
     "data": {
      "text/plain": [
       "<matplotlib.axes._subplots.AxesSubplot at 0x7fa434b2cdd8>"
      ]
     },
     "execution_count": 21,
     "metadata": {},
     "output_type": "execute_result"
    },
    {
     "data": {
      "image/png": "[encoded data removed]",
      "text/plain": [
       "<Figure size 432x288 with 1 Axes>"
      ]
     },
     "metadata": {
      "needs_background": "light"
     },
     "output_type": "display_data"
    }
   ],
   "source": [
    "merged['category'].hist()"
   ]
  },
  {
   "cell_type": "code",
   "execution_count": 22,
   "metadata": {},
   "outputs": [],
   "source": [
    "merged.drop('category_csv', 1).to_hdf(\"./save/CDS_Preprocessed_Data_merged.h5.gz\", key=\"CDS\", complib=\"zlib\", complevel=9, mode='w')"
   ]
  },
  {
   "cell_type": "code",
   "execution_count": 23,
   "metadata": {},
   "outputs": [
    {
     "data": {
      "text/html": [
       "<div>\n",
       "<style scoped>\n",
       "    .dataframe tbody tr th:only-of-type {\n",
       "        vertical-align: middle;\n",
       "    }\n",
       "\n",
       "    .dataframe tbody tr th {\n",
       "        vertical-align: top;\n",
       "    }\n",
       "\n",
       "    .dataframe thead th {\n",
       "        text-align: right;\n",
       "    }\n",
       "</style>\n",
       "<table border=\"1\" class=\"dataframe\">\n",
       "  <thead>\n",
       "    <tr style=\"text-align: right;\">\n",
       "      <th></th>\n",
       "      <th>PRICE</th>\n",
       "      <th>ROUNDED_NOTIONAL_AMOUNT</th>\n",
       "      <th>category</th>\n",
       "    </tr>\n",
       "  </thead>\n",
       "  <tbody>\n",
       "    <tr>\n",
       "      <th>0</th>\n",
       "      <td>0.668500</td>\n",
       "      <td>25.0</td>\n",
       "      <td>22</td>\n",
       "    </tr>\n",
       "    <tr>\n",
       "      <th>1</th>\n",
       "      <td>0.668500</td>\n",
       "      <td>50.0</td>\n",
       "      <td>22</td>\n",
       "    </tr>\n",
       "    <tr>\n",
       "      <th>2</th>\n",
       "      <td>0.476875</td>\n",
       "      <td>150.0</td>\n",
       "      <td>22</td>\n",
       "    </tr>\n",
       "    <tr>\n",
       "      <th>3</th>\n",
       "      <td>0.478750</td>\n",
       "      <td>85.0</td>\n",
       "      <td>22</td>\n",
       "    </tr>\n",
       "    <tr>\n",
       "      <th>4</th>\n",
       "      <td>0.680000</td>\n",
       "      <td>62.0</td>\n",
       "      <td>22</td>\n",
       "    </tr>\n",
       "  </tbody>\n",
       "</table>\n",
       "</div>"
      ],
      "text/plain": [
       "      PRICE  ROUNDED_NOTIONAL_AMOUNT  category\n",
       "0  0.668500                     25.0        22\n",
       "1  0.668500                     50.0        22\n",
       "2  0.476875                    150.0        22\n",
       "3  0.478750                     85.0        22\n",
       "4  0.680000                     62.0        22"
      ]
     },
     "execution_count": 23,
     "metadata": {},
     "output_type": "execute_result"
    }
   ],
   "source": [
    "merged.drop('category_csv', 1).head()"
   ]
  },
  {
   "cell_type": "code",
   "execution_count": 24,
   "metadata": {},
   "outputs": [],
   "source": [
    "from dataloader import Gen_Data_loader, Dis_dataloader"
   ]
  },
  {
   "cell_type": "code",
   "execution_count": 25,
   "metadata": {},
   "outputs": [],
   "source": [
    "BATCH_SIZE = 64\n",
    "SEQ_LENGTH = 20\n",
    "\n",
    "gen_data_loader = Gen_Data_loader(BATCH_SIZE, SEQ_LENGTH)\n",
    "dis_data_loader = Dis_dataloader(BATCH_SIZE, SEQ_LENGTH)"
   ]
  },
  {
   "cell_type": "code",
   "execution_count": 26,
   "metadata": {},
   "outputs": [],
   "source": [
    "positive_file = 'save/CDS_Preprocessed_Data_merged.h5.gz'\n",
    "negative_file = 'save/generator_sample.h5.gz'"
   ]
  },
  {
   "cell_type": "code",
   "execution_count": 27,
   "metadata": {},
   "outputs": [],
   "source": [
    "gen_data_loader.create_batches(positive_file)"
   ]
  },
  {
   "cell_type": "code",
   "execution_count": 28,
   "metadata": {},
   "outputs": [
    {
     "data": {
      "text/plain": [
       "1856"
      ]
     },
     "execution_count": 28,
     "metadata": {},
     "output_type": "execute_result"
    }
   ],
   "source": [
    "len(gen_data_loader.token_stream)"
   ]
  },
  {
   "cell_type": "code",
   "execution_count": 29,
   "metadata": {},
   "outputs": [
    {
     "data": {
      "text/plain": [
       "array([ 0.66849998, 25.        , 22.        ])"
      ]
     },
     "execution_count": 29,
     "metadata": {},
     "output_type": "execute_result"
    }
   ],
   "source": [
    "gen_data_loader.token_stream[0][0]"
   ]
  },
  {
   "cell_type": "code",
   "execution_count": 30,
   "metadata": {},
   "outputs": [
    {
     "data": {
      "text/plain": [
       "array(['C,NEW,CDXIG,Trade,PC', 'C,NEW,CDXIG,Trade,PC',\n",
       "       'C,NEW,CDXIG,Trade,PC', 'C,NEW,CDXIG,Trade,PC',\n",
       "       'C,NEW,CDXIG,Trade,PC'], dtype=object)"
      ]
     },
     "execution_count": 30,
     "metadata": {},
     "output_type": "execute_result"
    }
   ],
   "source": [
    "merged.values[:5, 2]"
   ]
  },
  {
   "cell_type": "code",
   "execution_count": 31,
   "metadata": {},
   "outputs": [],
   "source": [
    "%load_ext autoreload\n",
    "%autoreload 2"
   ]
  },
  {
   "cell_type": "code",
   "execution_count": 32,
   "metadata": {},
   "outputs": [
    {
     "name": "stdout",
     "output_type": "stream",
     "text": [
      "WARNING:tensorflow:From /home/philippe/Documents/UCB/S2/FinTech/SeqGAN_CDS/generator.py:25: The name tf.variable_scope is deprecated. Please use tf.compat.v1.variable_scope instead.\n",
      "\n",
      "WARNING:tensorflow:From /home/philippe/Documents/UCB/S2/FinTech/SeqGAN_CDS/generator.py:131: The name tf.random_normal is deprecated. Please use tf.random.normal instead.\n",
      "\n",
      "WARNING:tensorflow:From /home/philippe/Documents/UCB/S2/FinTech/SeqGAN_CDS/generator.py:32: The name tf.placeholder is deprecated. Please use tf.compat.v1.placeholder instead.\n",
      "\n",
      "WARNING:tensorflow:From /home/philippe/Documents/UCB/S2/FinTech/SeqGAN_CDS/generator.py:51: The name tf.log is deprecated. Please use tf.math.log instead.\n",
      "\n",
      "WARNING:tensorflow:From /home/philippe/Documents/UCB/S2/FinTech/SeqGAN_CDS/generator.py:52: multinomial (from tensorflow.python.ops.random_ops) is deprecated and will be removed in a future version.\n",
      "Instructions for updating:\n",
      "Use `tf.random.categorical` instead.\n",
      "WARNING:tensorflow:From /home/philippe/Documents/UCB/S2/FinTech/SeqGAN_CDS/generator.py:96: to_int32 (from tensorflow.python.ops.math_ops) is deprecated and will be removed in a future version.\n",
      "Instructions for updating:\n",
      "Use `tf.cast` instead.\n",
      "WARNING:tensorflow:From /home/philippe/Documents/UCB/S2/FinTech/SeqGAN_CDS/generator.py:211: The name tf.train.AdamOptimizer is deprecated. Please use tf.compat.v1.train.AdamOptimizer instead.\n",
      "\n",
      "WARNING:tensorflow:From /home/philippe/.virtualenvs/fintech/lib/python3.7/site-packages/tensorflow_core/python/ops/math_grad.py:1424: where (from tensorflow.python.ops.array_ops) is deprecated and will be removed in a future version.\n",
      "Instructions for updating:\n",
      "Use tf.where in 2.0, which has the same broadcast rule as np.where\n"
     ]
    }
   ],
   "source": [
    "from generator import Generator\n",
    "\n",
    "vocab_size = 112\n",
    "EMB_DIM = 8 # embedding dimension\n",
    "HIDDEN_DIM = 8 # hidden state dimension of lstm cell\n",
    "SEQ_LENGTH = 20 # sequence length\n",
    "START_TOKEN = [0., 0., 0]\n",
    "BATCH_SIZE = 64\n",
    "\n",
    "generator = Generator(vocab_size, BATCH_SIZE, EMB_DIM, HIDDEN_DIM, SEQ_LENGTH, START_TOKEN)"
   ]
  },
  {
   "cell_type": "code",
   "execution_count": 33,
   "metadata": {},
   "outputs": [
    {
     "name": "stdout",
     "output_type": "stream",
     "text": [
      "WARNING:tensorflow:From /home/philippe/Documents/UCB/S2/FinTech/SeqGAN_CDS/discriminator.py:74: The name tf.random_uniform is deprecated. Please use tf.random.uniform instead.\n",
      "\n",
      "WARNING:tensorflow:From /home/philippe/Documents/UCB/S2/FinTech/SeqGAN_CDS/discriminator.py:85: The name tf.truncated_normal is deprecated. Please use tf.random.truncated_normal instead.\n",
      "\n",
      "WARNING:tensorflow:From /home/philippe/Documents/UCB/S2/FinTech/SeqGAN_CDS/discriminator.py:96: The name tf.nn.max_pool is deprecated. Please use tf.nn.max_pool2d instead.\n",
      "\n",
      "WARNING:tensorflow:From /home/philippe/Documents/UCB/S2/FinTech/SeqGAN_CDS/discriminator.py:29: The name tf.get_variable is deprecated. Please use tf.compat.v1.get_variable instead.\n",
      "\n",
      "WARNING:tensorflow:From /home/philippe/Documents/UCB/S2/FinTech/SeqGAN_CDS/discriminator.py:115: calling dropout (from tensorflow.python.ops.nn_ops) with keep_prob is deprecated and will be removed in a future version.\n",
      "Instructions for updating:\n",
      "Please use `rate` instead of `keep_prob`. Rate should be set to `rate = 1 - keep_prob`.\n",
      "WARNING:tensorflow:From /home/philippe/Documents/UCB/S2/FinTech/SeqGAN_CDS/discriminator.py:123: The name tf.nn.xw_plus_b is deprecated. Please use tf.compat.v1.nn.xw_plus_b instead.\n",
      "\n",
      "WARNING:tensorflow:From /home/philippe/Documents/UCB/S2/FinTech/SeqGAN_CDS/discriminator.py:129: softmax_cross_entropy_with_logits (from tensorflow.python.ops.nn_ops) is deprecated and will be removed in a future version.\n",
      "Instructions for updating:\n",
      "\n",
      "Future major versions of TensorFlow will allow gradients to flow\n",
      "into the labels input on backprop by default.\n",
      "\n",
      "See `tf.nn.softmax_cross_entropy_with_logits_v2`.\n",
      "\n",
      "WARNING:tensorflow:From /home/philippe/Documents/UCB/S2/FinTech/SeqGAN_CDS/discriminator.py:132: The name tf.trainable_variables is deprecated. Please use tf.compat.v1.trainable_variables instead.\n",
      "\n"
     ]
    }
   ],
   "source": [
    "from discriminator import Discriminator\n",
    "\n",
    "dis_embedding_dim = 16\n",
    "dis_filter_sizes = [1, 2, 3, 4, 5, 6, 7, 8, 9, 10, 15, 20]\n",
    "dis_num_filters = [50, 100, 100, 100, 100, 50, 50, 50, 50, 50, 80, 80]\n",
    "dis_dropout_keep_prob = 0.75\n",
    "dis_l2_reg_lambda = 0.2\n",
    "dis_batch_size = 64\n",
    "\n",
    "discriminator = Discriminator(sequence_length=20, num_classes=2, vocab_size=vocab_size, embedding_size=dis_embedding_dim, \n",
    "                                filter_sizes=dis_filter_sizes, num_filters=dis_num_filters, l2_reg_lambda=dis_l2_reg_lambda)"
   ]
  },
  {
   "cell_type": "code",
   "execution_count": 34,
   "metadata": {},
   "outputs": [],
   "source": [
    "def generate_samples(sess, trainable_model, batch_size, generated_num, output_file):\n",
    "    # Generate Samples\n",
    "    generated_samples = []\n",
    "    for _ in range(int(generated_num / batch_size)):\n",
    "        generated_samples.extend(trainable_model.generate(sess))\n",
    "\n",
    "    data = []\n",
    "    for sequence in generated_samples:\n",
    "        data.extend(sequence)\n",
    "    df = pd.DataFrame(data=data, columns=[\"PRICE\", \"ROUNDED_NOTIONAL_AMOUNT\", \"category\"])\n",
    "    df = df.astype({\"category\": 'int32'})\n",
    "    df.to_hdf(output_file, key=\"CDS\", complib=\"zlib\", complevel=9, mode='w')"
   ]
  },
  {
   "cell_type": "code",
   "execution_count": 35,
   "metadata": {},
   "outputs": [],
   "source": [
    "import tensorflow as tf\n",
    "\n",
    "config = tf.ConfigProto()\n",
    "config.gpu_options.allow_growth = True\n",
    "sess = tf.Session(config=config)\n",
    "sess.run(tf.global_variables_initializer())"
   ]
  },
  {
   "cell_type": "code",
   "execution_count": 36,
   "metadata": {},
   "outputs": [],
   "source": [
    "generated_num = 37212 // 20\n",
    "\n",
    "generate_samples(sess, generator, BATCH_SIZE, generated_num, negative_file)"
   ]
  },
  {
   "cell_type": "code",
   "execution_count": 37,
   "metadata": {},
   "outputs": [
    {
     "data": {
      "text/plain": [
       "PRICE                      float64\n",
       "ROUNDED_NOTIONAL_AMOUNT    float64\n",
       "category                     int32\n",
       "dtype: object"
      ]
     },
     "execution_count": 37,
     "metadata": {},
     "output_type": "execute_result"
    }
   ],
   "source": [
    "df_neg = pd.read_hdf(negative_file)\n",
    "df_neg.dtypes"
   ]
  },
  {
   "cell_type": "code",
   "execution_count": 38,
   "metadata": {},
   "outputs": [
    {
     "data": {
      "text/html": [
       "<div>\n",
       "<style scoped>\n",
       "    .dataframe tbody tr th:only-of-type {\n",
       "        vertical-align: middle;\n",
       "    }\n",
       "\n",
       "    .dataframe tbody tr th {\n",
       "        vertical-align: top;\n",
       "    }\n",
       "\n",
       "    .dataframe thead th {\n",
       "        text-align: right;\n",
       "    }\n",
       "</style>\n",
       "<table border=\"1\" class=\"dataframe\">\n",
       "  <thead>\n",
       "    <tr style=\"text-align: right;\">\n",
       "      <th></th>\n",
       "      <th>PRICE</th>\n",
       "      <th>ROUNDED_NOTIONAL_AMOUNT</th>\n",
       "      <th>category</th>\n",
       "    </tr>\n",
       "  </thead>\n",
       "  <tbody>\n",
       "    <tr>\n",
       "      <th>0</th>\n",
       "      <td>-0.233374</td>\n",
       "      <td>-0.056804</td>\n",
       "      <td>7</td>\n",
       "    </tr>\n",
       "    <tr>\n",
       "      <th>1</th>\n",
       "      <td>-0.225074</td>\n",
       "      <td>-0.051833</td>\n",
       "      <td>4</td>\n",
       "    </tr>\n",
       "    <tr>\n",
       "      <th>2</th>\n",
       "      <td>-0.220841</td>\n",
       "      <td>-0.050579</td>\n",
       "      <td>60</td>\n",
       "    </tr>\n",
       "    <tr>\n",
       "      <th>3</th>\n",
       "      <td>-0.216635</td>\n",
       "      <td>-0.048564</td>\n",
       "      <td>82</td>\n",
       "    </tr>\n",
       "    <tr>\n",
       "      <th>4</th>\n",
       "      <td>-0.215198</td>\n",
       "      <td>-0.046689</td>\n",
       "      <td>32</td>\n",
       "    </tr>\n",
       "  </tbody>\n",
       "</table>\n",
       "</div>"
      ],
      "text/plain": [
       "      PRICE  ROUNDED_NOTIONAL_AMOUNT  category\n",
       "0 -0.233374                -0.056804         7\n",
       "1 -0.225074                -0.051833         4\n",
       "2 -0.220841                -0.050579        60\n",
       "3 -0.216635                -0.048564        82\n",
       "4 -0.215198                -0.046689        32"
      ]
     },
     "execution_count": 38,
     "metadata": {},
     "output_type": "execute_result"
    }
   ],
   "source": [
    "df_neg.head()"
   ]
  },
  {
   "cell_type": "code",
   "execution_count": 39,
   "metadata": {},
   "outputs": [],
   "source": [
    "dis_data_loader.load_train_data(positive_file, negative_file)"
   ]
  },
  {
   "cell_type": "code",
   "execution_count": 40,
   "metadata": {},
   "outputs": [
    {
     "data": {
      "text/plain": [
       "3712"
      ]
     },
     "execution_count": 40,
     "metadata": {},
     "output_type": "execute_result"
    }
   ],
   "source": [
    "len(dis_data_loader.sentences)"
   ]
  },
  {
   "cell_type": "code",
   "execution_count": 41,
   "metadata": {},
   "outputs": [
    {
     "data": {
      "text/plain": [
       "20"
      ]
     },
     "execution_count": 41,
     "metadata": {},
     "output_type": "execute_result"
    }
   ],
   "source": [
    "len(dis_data_loader.sentences[0])"
   ]
  },
  {
   "cell_type": "code",
   "execution_count": 42,
   "metadata": {},
   "outputs": [
    {
     "data": {
      "text/plain": [
       "array([[  0.6275    ,  11.        ,  20.        ],\n",
       "       [  0.6275    ,   3.        ,  20.        ],\n",
       "       [  0.6275    ,   3.        ,  20.        ],\n",
       "       [  0.6275    ,   3.        ,  51.        ],\n",
       "       [  0.6325    , 110.        ,  84.        ],\n",
       "       [  0.63      , 110.        ,  86.        ],\n",
       "       [  0.625     , 110.        ,  84.        ],\n",
       "       [  0.62470001, 110.        ,  86.        ],\n",
       "       [108.48000336,  17.        ,  55.        ],\n",
       "       [  0.625     , 110.        ,  84.        ],\n",
       "       [  0.6275    , 110.        ,  22.        ],\n",
       "       [  0.465     , 170.        ,  22.        ],\n",
       "       [  0.465     ,  85.        ,  22.        ],\n",
       "       [  0.6275    ,  62.        ,  22.        ],\n",
       "       [108.48000336,  17.        ,  57.        ],\n",
       "       [108.55000305,  17.        ,  80.        ],\n",
       "       [  0.6275    , 110.        ,  22.        ],\n",
       "       [  0.465     , 200.        ,  22.        ],\n",
       "       [  0.62875   ,  50.        ,  22.        ],\n",
       "       [  0.62165001,  55.        ,  22.        ]])"
      ]
     },
     "execution_count": 42,
     "metadata": {},
     "output_type": "execute_result"
    }
   ],
   "source": [
    "dis_data_loader.sentences[0]"
   ]
  },
  {
   "cell_type": "code",
   "execution_count": 43,
   "metadata": {},
   "outputs": [
    {
     "data": {
      "text/plain": [
       "dtype('float64')"
      ]
     },
     "execution_count": 43,
     "metadata": {},
     "output_type": "execute_result"
    }
   ],
   "source": [
    "dis_data_loader.sentences.dtype"
   ]
  },
  {
   "cell_type": "code",
   "execution_count": 44,
   "metadata": {},
   "outputs": [],
   "source": [
    "from rollout import ROLLOUT\n",
    "\n",
    "rollout = ROLLOUT(generator, 0.8)"
   ]
  },
  {
   "cell_type": "code",
   "execution_count": 45,
   "metadata": {},
   "outputs": [
    {
     "data": {
      "text/plain": [
       "array([[-2.3337430e-01, -5.6804232e-02,  5.5000000e+01],\n",
       "       [-2.2385031e-01, -5.2184019e-02,  3.0000000e+00],\n",
       "       [-2.2064658e-01, -5.0587930e-02,  3.5000000e+01],\n",
       "       [-2.1803275e-01, -4.9323604e-02,  8.0000000e+00],\n",
       "       [-2.1502404e-01, -4.8274998e-02,  9.9000000e+01],\n",
       "       [-2.1459860e-01, -4.8437059e-02,  5.1000000e+01],\n",
       "       [-2.1444342e-01, -4.8446972e-02,  1.0900000e+02],\n",
       "       [-2.1644008e-01, -4.9534015e-02,  1.1100000e+02],\n",
       "       [-2.1831235e-01, -4.9618900e-02,  6.0000000e+00],\n",
       "       [-2.1575522e-01, -4.8251577e-02,  6.1000000e+01],\n",
       "       [-2.1732956e-01, -4.8409455e-02,  5.5000000e+01],\n",
       "       [-2.1478388e-01, -4.7948923e-02,  7.1000000e+01],\n",
       "       [-2.1544982e-01, -4.7600426e-02,  1.7000000e+01],\n",
       "       [-2.1780922e-01, -4.9518876e-02,  6.3000000e+01],\n",
       "       [-2.1647534e-01, -4.8479673e-02,  2.2000000e+01],\n",
       "       [-2.1584128e-01, -4.7861554e-02,  7.0000000e+00],\n",
       "       [-2.1535510e-01, -4.7200631e-02,  4.0000000e+01],\n",
       "       [-2.1435030e-01, -4.7426004e-02,  4.3000000e+01],\n",
       "       [-2.1921439e-01, -5.0748251e-02,  1.9000000e+01],\n",
       "       [-2.1820109e-01, -5.0875574e-02,  1.6000000e+01]], dtype=float32)"
      ]
     },
     "execution_count": 45,
     "metadata": {},
     "output_type": "execute_result"
    }
   ],
   "source": [
    "samples = generator.generate(sess)\n",
    "samples[0]"
   ]
  },
  {
   "cell_type": "code",
   "execution_count": 46,
   "metadata": {},
   "outputs": [],
   "source": [
    "rewards = rollout.get_reward(sess, samples, 16, discriminator)\n",
    "feed = {generator.x: samples, generator.rewards: rewards}\n",
    "_ = sess.run(generator.g_updates, feed_dict=feed)"
   ]
  },
  {
   "cell_type": "code",
   "execution_count": 47,
   "metadata": {},
   "outputs": [],
   "source": [
    "rollout.update_params()"
   ]
  }
 ],
 "metadata": {
  "kernelspec": {
   "display_name": "fintech",
   "language": "python",
   "name": "fintech"
  },
  "language_info": {
   "codemirror_mode": {
    "name": "ipython",
    "version": 3
   },
   "file_extension": ".py",
   "mimetype": "text/x-python",
   "name": "python",
   "nbconvert_exporter": "python",
   "pygments_lexer": "ipython3",
   "version": "3.7.2"
  }
 },
 "nbformat": 4,
 "nbformat_minor": 2
}
